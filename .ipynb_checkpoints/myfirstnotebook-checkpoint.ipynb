{
 "cells": [
  {
   "cell_type": "markdown",
   "id": "e677ba27-5dc4-4c71-8f7a-3820a59ee59d",
   "metadata": {},
   "source": [
    "# My Notes"
   ]
  },
  {
   "cell_type": "code",
   "execution_count": 8,
   "id": "e97949f0-a51c-45b9-af55-57184c1fa096",
   "metadata": {
    "tags": []
   },
   "outputs": [
    {
     "name": "stdout",
     "output_type": "stream",
     "text": [
      "hello world\n"
     ]
    }
   ],
   "source": [
    "print(\"hello world\")"
   ]
  },
  {
   "cell_type": "code",
   "execution_count": 9,
   "id": "24411ab9-9e4d-4757-9aa7-3d78743c8ced",
   "metadata": {
    "tags": []
   },
   "outputs": [],
   "source": [
    "# rename the notebook\n",
    "# write code and execute the cell\n",
    "# Switching the modes\n",
    "# Shortcuts\n",
    "# Markdown cell"
   ]
  },
  {
   "cell_type": "code",
   "execution_count": null,
   "id": "d6d2c3b3-44a7-4d3f-9356-a014f977e0fb",
   "metadata": {
    "tags": []
   },
   "outputs": [],
   "source": [
    "# Important Shortcuts\n",
    "# shift+enter (edit mode/cmd mode) --> execute the current cell and move to the next cell (if it doesn't exist - it creates a new cell)\n",
    "# escape - to enter the command mode\n",
    "# enter - to go into edit mode\n",
    "\n",
    "# Command mode\n",
    "# b --> insert a new cell below my current cell\n",
    "# a --> insert a new cell above my current cell\n",
    "# d+d --> delete a cell\n",
    "# m --> convert a code cell to markdown cell\n",
    "# y --> convert a markdown cell to code cell"
   ]
  },
  {
   "cell_type": "code",
   "execution_count": 6,
   "id": "fd629c9c-1d41-4347-86d1-a8f2b6b9568a",
   "metadata": {
    "tags": []
   },
   "outputs": [
    {
     "name": "stdout",
     "output_type": "stream",
     "text": [
      "Welcome class\n"
     ]
    }
   ],
   "source": [
    "print(\"Welcome class\")"
   ]
  },
  {
   "cell_type": "markdown",
   "id": "c0f01032-b77e-4c09-9319-12af03850b68",
   "metadata": {
    "tags": []
   },
   "source": [
    "# Heading 1\n",
    "## Heading 2\n",
    "### Heading 3\n",
    "#### Heading 4\n",
    "##### Heading 5\n",
    "###### Heading 6\n",
    "\n",
    "Text\n",
    "\n",
    "print(\"Welcome class\")\n",
    "\n",
    "```python\n",
    "print(\"Welcome class\")\n",
    "```"
   ]
  },
  {
   "cell_type": "markdown",
   "id": "4eed1fde-ec73-44e3-89d2-1466c68abac2",
   "metadata": {},
   "source": [
    "# Variables"
   ]
  },
  {
   "cell_type": "code",
   "execution_count": 10,
   "id": "74e00084-49a4-45a1-9786-3eabbaa4c287",
   "metadata": {
    "tags": []
   },
   "outputs": [],
   "source": [
    "# variable name start with letter or underscore\n",
    "# variable name can be alphanumeric, case sensitive\n",
    "# cannot contain special characters except _\n",
    "# variable name cannot be a keyword"
   ]
  },
  {
   "cell_type": "code",
   "execution_count": 11,
   "id": "e2d98acd-ffb9-4cf3-85db-d7a21718db6d",
   "metadata": {
    "tags": []
   },
   "outputs": [
    {
     "name": "stdout",
     "output_type": "stream",
     "text": [
      "100\n"
     ]
    }
   ],
   "source": [
    "x = 100\n",
    "print(x)"
   ]
  },
  {
   "cell_type": "code",
   "execution_count": 12,
   "id": "3471abd8-200b-45b1-ae1d-c62d3e5e0eed",
   "metadata": {
    "tags": []
   },
   "outputs": [
    {
     "name": "stdout",
     "output_type": "stream",
     "text": [
      "120\n"
     ]
    }
   ],
   "source": [
    "x = 120 # x is variable\n",
    "# 120 is value\n",
    "# = --> assignment operator\n",
    "print(x)"
   ]
  },
  {
   "cell_type": "code",
   "execution_count": 13,
   "id": "a1066aae-3e9c-4d86-8136-1bb01b5ff31b",
   "metadata": {
    "tags": []
   },
   "outputs": [
    {
     "name": "stdout",
     "output_type": "stream",
     "text": [
      "120\n"
     ]
    }
   ],
   "source": [
    "_x = 120\n",
    "print(_x)"
   ]
  },
  {
   "cell_type": "code",
   "execution_count": 14,
   "id": "639b783e-2e81-4cfb-8e5e-7adcbe2247bc",
   "metadata": {
    "tags": []
   },
   "outputs": [],
   "source": [
    "x123 = 129\n",
    "X_tyiu = 200"
   ]
  },
  {
   "cell_type": "code",
   "execution_count": 15,
   "id": "67ac42a4-10ad-47c7-b144-1a47fce7de01",
   "metadata": {
    "tags": []
   },
   "outputs": [
    {
     "name": "stdout",
     "output_type": "stream",
     "text": [
      "100\n",
      "150\n"
     ]
    }
   ],
   "source": [
    "x = 100\n",
    "X = 150\n",
    "print(x)\n",
    "print(X)"
   ]
  },
  {
   "cell_type": "code",
   "execution_count": 16,
   "id": "6de0ccbf-1c02-42bc-9486-a5094dbdf505",
   "metadata": {
    "tags": []
   },
   "outputs": [
    {
     "ename": "SyntaxError",
     "evalue": "invalid decimal literal (1067945070.py, line 1)",
     "output_type": "error",
     "traceback": [
      "\u001b[0;36m  Cell \u001b[0;32mIn[16], line 1\u001b[0;36m\u001b[0m\n\u001b[0;31m    1x = 200\u001b[0m\n\u001b[0m    ^\u001b[0m\n\u001b[0;31mSyntaxError\u001b[0m\u001b[0;31m:\u001b[0m invalid decimal literal\n"
     ]
    }
   ],
   "source": [
    "1x = 200"
   ]
  },
  {
   "cell_type": "code",
   "execution_count": 17,
   "id": "7c77685c-b18d-4ee7-bb08-d5b19e871c72",
   "metadata": {
    "tags": []
   },
   "outputs": [
    {
     "ename": "SyntaxError",
     "evalue": "invalid syntax (448617725.py, line 1)",
     "output_type": "error",
     "traceback": [
      "\u001b[0;36m  Cell \u001b[0;32mIn[17], line 1\u001b[0;36m\u001b[0m\n\u001b[0;31m    x!y = 200\u001b[0m\n\u001b[0m     ^\u001b[0m\n\u001b[0;31mSyntaxError\u001b[0m\u001b[0;31m:\u001b[0m invalid syntax\n"
     ]
    }
   ],
   "source": [
    "x!y = 200"
   ]
  },
  {
   "cell_type": "markdown",
   "id": "1e37ac6b-9cb3-4989-a67d-0f20d29f994f",
   "metadata": {},
   "source": [
    "### keyword\n",
    "A word which has predefined meaning by the creator of programming language"
   ]
  },
  {
   "cell_type": "code",
   "execution_count": 19,
   "id": "e71f5043-25e5-4e79-8222-474f6ac3b73f",
   "metadata": {
    "tags": []
   },
   "outputs": [
    {
     "data": {
      "text/plain": [
       "['False',\n",
       " 'None',\n",
       " 'True',\n",
       " 'and',\n",
       " 'as',\n",
       " 'assert',\n",
       " 'async',\n",
       " 'await',\n",
       " 'break',\n",
       " 'class',\n",
       " 'continue',\n",
       " 'def',\n",
       " 'del',\n",
       " 'elif',\n",
       " 'else',\n",
       " 'except',\n",
       " 'finally',\n",
       " 'for',\n",
       " 'from',\n",
       " 'global',\n",
       " 'if',\n",
       " 'import',\n",
       " 'in',\n",
       " 'is',\n",
       " 'lambda',\n",
       " 'nonlocal',\n",
       " 'not',\n",
       " 'or',\n",
       " 'pass',\n",
       " 'raise',\n",
       " 'return',\n",
       " 'try',\n",
       " 'while',\n",
       " 'with',\n",
       " 'yield']"
      ]
     },
     "execution_count": 19,
     "metadata": {},
     "output_type": "execute_result"
    }
   ],
   "source": [
    "import keyword\n",
    "keyword.kwlist"
   ]
  },
  {
   "cell_type": "code",
   "execution_count": 20,
   "id": "fd7f1704-23e4-4555-9357-abc552339dc2",
   "metadata": {
    "tags": []
   },
   "outputs": [
    {
     "ename": "SyntaxError",
     "evalue": "invalid syntax (283906031.py, line 1)",
     "output_type": "error",
     "traceback": [
      "\u001b[0;36m  Cell \u001b[0;32mIn[20], line 1\u001b[0;36m\u001b[0m\n\u001b[0;31m    break = 500\u001b[0m\n\u001b[0m          ^\u001b[0m\n\u001b[0;31mSyntaxError\u001b[0m\u001b[0;31m:\u001b[0m invalid syntax\n"
     ]
    }
   ],
   "source": [
    "break = 500"
   ]
  },
  {
   "cell_type": "markdown",
   "id": "bab5907c-c4d9-4f0f-98dd-7fab2e3e5363",
   "metadata": {},
   "source": [
    "## In class activity\n",
    "- my_variable\n",
    "- variable1\n",
    "- myVar\n",
    "- _underscore_variable\n",
    "- class\n",
    "- __double_underscore_variable\n",
    "- 1variable\n",
    "- lambda"
   ]
  },
  {
   "cell_type": "code",
   "execution_count": null,
   "id": "efeb2000-a919-4421-a749-53565f7a4a81",
   "metadata": {},
   "outputs": [],
   "source": []
  },
  {
   "cell_type": "markdown",
   "id": "e468b84f-ee6c-45de-b9c4-3c81fca2e71a",
   "metadata": {},
   "source": [
    "# Data type\n",
    "Type of value we assign to variables\n",
    " - int\n",
    " - float\n",
    " - bool\n",
    " - complex"
   ]
  },
  {
   "cell_type": "code",
   "execution_count": 29,
   "id": "93a2274f-8e55-43ef-bb32-dcb95f9a5187",
   "metadata": {
    "tags": []
   },
   "outputs": [
    {
     "name": "stdout",
     "output_type": "stream",
     "text": [
      "<class 'int'>\n"
     ]
    }
   ],
   "source": [
    "a = 100 # -ve , 0 ,+ve\n",
    "print(type(a))"
   ]
  },
  {
   "cell_type": "code",
   "execution_count": 31,
   "id": "1cecdae6-0849-4c9d-a473-5b37c7d1dab5",
   "metadata": {
    "tags": []
   },
   "outputs": [
    {
     "name": "stdout",
     "output_type": "stream",
     "text": [
      "100.33\n",
      "<class 'float'>\n"
     ]
    }
   ],
   "source": [
    "b = 100.33 # float\n",
    "print(b)\n",
    "print(type(b))"
   ]
  },
  {
   "cell_type": "code",
   "execution_count": 33,
   "id": "13d1e481-87ad-44a6-bf81-a59e26a18d06",
   "metadata": {
    "tags": []
   },
   "outputs": [
    {
     "name": "stdout",
     "output_type": "stream",
     "text": [
      "False\n",
      "<class 'bool'>\n"
     ]
    }
   ],
   "source": [
    "# True False\n",
    "c = False\n",
    "print(c)\n",
    "print(type(c))"
   ]
  },
  {
   "cell_type": "code",
   "execution_count": 34,
   "id": "4bca0ec4-34ab-46a6-88cf-d9fd74afd37b",
   "metadata": {
    "tags": []
   },
   "outputs": [
    {
     "name": "stdout",
     "output_type": "stream",
     "text": [
      "(1+4j)\n",
      "<class 'complex'>\n"
     ]
    }
   ],
   "source": [
    "# complex\n",
    "d = 1 + 4j\n",
    "print(d)\n",
    "print(type(d))"
   ]
  },
  {
   "cell_type": "markdown",
   "id": "a73e8c81-8a1c-4f57-ad68-e06de5aa123c",
   "metadata": {},
   "source": [
    "### Data Strctures\n",
    "- Strings\n",
    "- List\n",
    "- Tuple\n",
    "- Dictionary\n",
    "- Sets"
   ]
  },
  {
   "cell_type": "code",
   "execution_count": 37,
   "id": "34bc6177-1fc6-44e3-8830-bad586eb7641",
   "metadata": {
    "tags": []
   },
   "outputs": [],
   "source": [
    "# String\n",
    "# Collection of characters\n",
    "# anything we create in single quote, double quote, triple single quote, triple double quote\n",
    "\n",
    "# span over single line only\n",
    "a = \"welcome\"\n",
    "b = 'to'\n",
    "\n",
    "# span over multi line \n",
    "c = \"\"\"python\"\"\"\n",
    "d = '''class'''"
   ]
  },
  {
   "cell_type": "code",
   "execution_count": 36,
   "id": "c7505440-2a4d-4f50-9291-1cf7156532d0",
   "metadata": {
    "tags": []
   },
   "outputs": [
    {
     "name": "stdout",
     "output_type": "stream",
     "text": [
      "<class 'str'>\n",
      "<class 'str'>\n",
      "<class 'str'>\n",
      "<class 'str'>\n"
     ]
    }
   ],
   "source": [
    "print(type(a))\n",
    "print(type(b))\n",
    "print(type(c))\n",
    "print(type(d))"
   ]
  },
  {
   "cell_type": "code",
   "execution_count": 38,
   "id": "9f57833e-b275-445f-8c23-9c412adf867e",
   "metadata": {
    "tags": []
   },
   "outputs": [
    {
     "ename": "SyntaxError",
     "evalue": "unterminated string literal (detected at line 1) (1119797219.py, line 1)",
     "output_type": "error",
     "traceback": [
      "\u001b[0;36m  Cell \u001b[0;32mIn[38], line 1\u001b[0;36m\u001b[0m\n\u001b[0;31m    l1 = \"welcome\u001b[0m\n\u001b[0m         ^\u001b[0m\n\u001b[0;31mSyntaxError\u001b[0m\u001b[0;31m:\u001b[0m unterminated string literal (detected at line 1)\n"
     ]
    }
   ],
   "source": [
    "l1 = \"welcome\n",
    "to class\""
   ]
  },
  {
   "cell_type": "code",
   "execution_count": 39,
   "id": "aebffe2a-37fc-4dca-afee-36eba07b9c51",
   "metadata": {
    "tags": []
   },
   "outputs": [
    {
     "name": "stdout",
     "output_type": "stream",
     "text": [
      "welcome to\n",
      "the class\n",
      "of\n",
      "python\n"
     ]
    }
   ],
   "source": [
    "m1 = \"\"\"welcome to\n",
    "the class\n",
    "of\n",
    "python\"\"\"\n",
    "print(m1)"
   ]
  },
  {
   "cell_type": "markdown",
   "id": "a68a77cf-6bab-4848-9243-0201c62d2b41",
   "metadata": {},
   "source": [
    "### Casting\n",
    "Converting the value from one data type to another data type\n",
    "1. Implicit Casting\n",
    "2. Explicit Casting"
   ]
  },
  {
   "cell_type": "code",
   "execution_count": 41,
   "id": "9d13c1ba-7e5b-497d-9f60-2f74f9c594ae",
   "metadata": {
    "tags": []
   },
   "outputs": [
    {
     "name": "stdout",
     "output_type": "stream",
     "text": [
      "33.333333333333336\n"
     ]
    }
   ],
   "source": [
    "x = 100\n",
    "y = 3.0\n",
    "print(x/y)"
   ]
  },
  {
   "cell_type": "code",
   "execution_count": 42,
   "id": "a32fe98a-f41f-4cf2-a5bb-b0ffb975f340",
   "metadata": {
    "tags": []
   },
   "outputs": [
    {
     "name": "stdout",
     "output_type": "stream",
     "text": [
      "<class 'int'>\n",
      "<class 'float'>\n"
     ]
    }
   ],
   "source": [
    "x = 100\n",
    "y = float(x)\n",
    "print(type(x))\n",
    "print(type(y))"
   ]
  },
  {
   "cell_type": "code",
   "execution_count": 43,
   "id": "85215095-1b8c-4191-9841-55c457828dfa",
   "metadata": {
    "tags": []
   },
   "outputs": [
    {
     "name": "stdout",
     "output_type": "stream",
     "text": [
      "<class 'str'>\n",
      "<class 'int'>\n"
     ]
    }
   ],
   "source": [
    "x = \"100\"\n",
    "z = int(x)\n",
    "print(type(x))\n",
    "print(type(z))"
   ]
  },
  {
   "cell_type": "markdown",
   "id": "7e0a69da-cfbd-4f3a-986c-998a92b079b6",
   "metadata": {},
   "source": [
    "# Operators in Python Programming"
   ]
  },
  {
   "cell_type": "markdown",
   "id": "f5bb1051-a8a6-4e71-8b45-dfbdea6a7ed7",
   "metadata": {},
   "source": [
    "## Arithmetic Operators"
   ]
  },
  {
   "cell_type": "code",
   "execution_count": 44,
   "id": "6ec52878-9e17-44bf-818e-f11c40850abb",
   "metadata": {
    "tags": []
   },
   "outputs": [],
   "source": [
    "x = 100\n",
    "y = 25"
   ]
  },
  {
   "cell_type": "code",
   "execution_count": 45,
   "id": "809bd72f-7cb7-436d-97db-937f6e5a8615",
   "metadata": {
    "tags": []
   },
   "outputs": [
    {
     "name": "stdout",
     "output_type": "stream",
     "text": [
      "125\n"
     ]
    }
   ],
   "source": [
    "z = x+y\n",
    "print(z)"
   ]
  },
  {
   "cell_type": "code",
   "execution_count": 46,
   "id": "ddfb86dc-63e6-4c7f-a561-74eb4de4e947",
   "metadata": {
    "tags": []
   },
   "outputs": [
    {
     "name": "stdout",
     "output_type": "stream",
     "text": [
      "75\n"
     ]
    }
   ],
   "source": [
    "z = x-y\n",
    "print(z)"
   ]
  },
  {
   "cell_type": "code",
   "execution_count": 47,
   "id": "31a16043-2ad6-41ea-90bb-2e027b1ea067",
   "metadata": {
    "tags": []
   },
   "outputs": [
    {
     "name": "stdout",
     "output_type": "stream",
     "text": [
      "4.0\n"
     ]
    }
   ],
   "source": [
    "z = x/y\n",
    "print(z)"
   ]
  },
  {
   "cell_type": "code",
   "execution_count": 48,
   "id": "e3426307-03eb-4d1c-8171-4b36f0cfddd2",
   "metadata": {
    "tags": []
   },
   "outputs": [
    {
     "name": "stdout",
     "output_type": "stream",
     "text": [
      "4\n"
     ]
    }
   ],
   "source": [
    "z = x//y\n",
    "print(z)"
   ]
  },
  {
   "cell_type": "code",
   "execution_count": 49,
   "id": "00d8ecc1-7bf0-42bc-b6dd-a183170d3929",
   "metadata": {
    "tags": []
   },
   "outputs": [
    {
     "name": "stdout",
     "output_type": "stream",
     "text": [
      "2\n"
     ]
    }
   ],
   "source": [
    "a = 5\n",
    "b = 3\n",
    "c = a % b\n",
    "print(c)"
   ]
  },
  {
   "cell_type": "code",
   "execution_count": 50,
   "id": "0b76e6cd-900d-49a7-856b-e638cd562f5f",
   "metadata": {
    "tags": []
   },
   "outputs": [
    {
     "name": "stdout",
     "output_type": "stream",
     "text": [
      "125\n"
     ]
    }
   ],
   "source": [
    "a = 5\n",
    "b = 3\n",
    "c = a ** b\n",
    "print(c)"
   ]
  },
  {
   "cell_type": "markdown",
   "id": "9c87a63c-0799-4f73-9ae7-bb44a76978cf",
   "metadata": {
    "tags": []
   },
   "source": [
    "## Assignment Operators"
   ]
  },
  {
   "cell_type": "code",
   "execution_count": 51,
   "id": "f1f406b6-0234-452d-bad6-ffc84d2b44f9",
   "metadata": {
    "tags": []
   },
   "outputs": [
    {
     "name": "stdout",
     "output_type": "stream",
     "text": [
      "15\n"
     ]
    }
   ],
   "source": [
    "a = 5\n",
    "a += 10 # a = a+10\n",
    "print(a)"
   ]
  },
  {
   "cell_type": "code",
   "execution_count": 52,
   "id": "170180ae-38b4-4cf1-b6ca-be966800f29c",
   "metadata": {
    "tags": []
   },
   "outputs": [
    {
     "name": "stdout",
     "output_type": "stream",
     "text": [
      "5\n"
     ]
    }
   ],
   "source": [
    "a = 15\n",
    "a -= 10 # a = a-10\n",
    "print(a)"
   ]
  },
  {
   "cell_type": "code",
   "execution_count": 53,
   "id": "fce41e76-3422-4e4c-b5cd-631794e0c08c",
   "metadata": {
    "tags": []
   },
   "outputs": [
    {
     "name": "stdout",
     "output_type": "stream",
     "text": [
      "5.0\n"
     ]
    }
   ],
   "source": [
    "a = 15\n",
    "a /= 3 \n",
    "print(a)"
   ]
  },
  {
   "cell_type": "markdown",
   "id": "035a42ea-d7fd-4283-89fb-a53e8788a07f",
   "metadata": {},
   "source": [
    "## Comparision Operators"
   ]
  },
  {
   "cell_type": "code",
   "execution_count": 54,
   "id": "d682d059-75bf-45cd-82cf-a6aeea49ccf6",
   "metadata": {
    "tags": []
   },
   "outputs": [
    {
     "name": "stdout",
     "output_type": "stream",
     "text": [
      "True\n"
     ]
    }
   ],
   "source": [
    "x = 100\n",
    "y = 50\n",
    "z = 100\n",
    "print(x==z)"
   ]
  },
  {
   "cell_type": "code",
   "execution_count": 55,
   "id": "6156e03a-7ad4-4ca8-9b15-30f4b4fc3ea0",
   "metadata": {
    "tags": []
   },
   "outputs": [
    {
     "name": "stdout",
     "output_type": "stream",
     "text": [
      "False\n"
     ]
    }
   ],
   "source": [
    "print(x==y)"
   ]
  },
  {
   "cell_type": "code",
   "execution_count": 56,
   "id": "2dc55a43-eecc-4d52-8b75-f5406108cc33",
   "metadata": {
    "tags": []
   },
   "outputs": [
    {
     "name": "stdout",
     "output_type": "stream",
     "text": [
      "True\n"
     ]
    }
   ],
   "source": [
    "print(x!=y) # not equal"
   ]
  },
  {
   "cell_type": "code",
   "execution_count": 57,
   "id": "9b29c679-8eb4-456c-9394-0e6f83b3e8d1",
   "metadata": {
    "tags": []
   },
   "outputs": [
    {
     "name": "stdout",
     "output_type": "stream",
     "text": [
      "True\n"
     ]
    }
   ],
   "source": [
    "print(x>y)"
   ]
  },
  {
   "cell_type": "code",
   "execution_count": 58,
   "id": "74b77a3e-4c67-4038-8b14-c0786928c165",
   "metadata": {
    "tags": []
   },
   "outputs": [
    {
     "name": "stdout",
     "output_type": "stream",
     "text": [
      "False\n"
     ]
    }
   ],
   "source": [
    "print(x<y)"
   ]
  },
  {
   "cell_type": "code",
   "execution_count": 59,
   "id": "18a027b8-3bb9-4923-bcea-7837539a35de",
   "metadata": {
    "tags": []
   },
   "outputs": [
    {
     "name": "stdout",
     "output_type": "stream",
     "text": [
      "True\n"
     ]
    }
   ],
   "source": [
    "print(x>=y)"
   ]
  },
  {
   "cell_type": "code",
   "execution_count": 60,
   "id": "1fabd0ae-c945-4362-8c26-f58e2fa62e47",
   "metadata": {
    "tags": []
   },
   "outputs": [
    {
     "name": "stdout",
     "output_type": "stream",
     "text": [
      "False\n"
     ]
    }
   ],
   "source": [
    "print(x<=y)"
   ]
  },
  {
   "cell_type": "code",
   "execution_count": 61,
   "id": "06672797-5757-4f66-acec-1fcdf017df86",
   "metadata": {
    "tags": []
   },
   "outputs": [
    {
     "name": "stdout",
     "output_type": "stream",
     "text": [
      "209\n"
     ]
    }
   ],
   "source": [
    "x = 199\n",
    "y = 10\n",
    "print(x+y)"
   ]
  },
  {
   "cell_type": "markdown",
   "id": "cf9498bd-83f8-4dde-8028-d28901cdd32c",
   "metadata": {},
   "source": [
    "# Getting the input from the user"
   ]
  },
  {
   "cell_type": "code",
   "execution_count": 63,
   "id": "f2e98511-d434-441d-af65-2558953524ce",
   "metadata": {
    "tags": []
   },
   "outputs": [
    {
     "name": "stdin",
     "output_type": "stream",
     "text": [
      "please enter a value 75\n"
     ]
    },
    {
     "name": "stdout",
     "output_type": "stream",
     "text": [
      "entered value is 75\n"
     ]
    }
   ],
   "source": [
    "# input() - read the input from keyboard as a string value\n",
    "# syntax - input(\"Hint\")\n",
    "\n",
    "x = input(\"please enter a value\")\n",
    "print(\"entered value is\",x)"
   ]
  },
  {
   "cell_type": "markdown",
   "id": "2edd5d56-a0d2-466d-b513-71c23d897f36",
   "metadata": {},
   "source": [
    "### In class assignment\n",
    "\n",
    "- Read the temperature (in celsius) of a kid from keyboard , and convert to Fahrenheit\n",
    "- Get the age of a student in Years, and convert into days\n",
    "- Get two numbers as input from user, and print the sum"
   ]
  },
  {
   "cell_type": "code",
   "execution_count": null,
   "id": "078b2ffd-c0ac-426b-9d41-b650182f34c1",
   "metadata": {},
   "outputs": [],
   "source": []
  }
 ],
 "metadata": {
  "kernelspec": {
   "display_name": "Python 3 (ipykernel)",
   "language": "python",
   "name": "python3"
  },
  "language_info": {
   "codemirror_mode": {
    "name": "ipython",
    "version": 3
   },
   "file_extension": ".py",
   "mimetype": "text/x-python",
   "name": "python",
   "nbconvert_exporter": "python",
   "pygments_lexer": "ipython3",
   "version": "3.11.3"
  }
 },
 "nbformat": 4,
 "nbformat_minor": 5
}
