{
 "cells": [
  {
   "cell_type": "markdown",
   "id": "d2543f31-eaa0-4750-8408-7ea6bb398ef8",
   "metadata": {},
   "source": [
    "# Classes\n",
    "\n",
    "## Create Classes in python\n",
    "\n",
    "1. to define class we create with `class` keyword\n",
    "2. Variables inside a class is called `attribute`. To access an attribute, we call as - `object_name.attribute`\n",
    "3. Functions defined inside a class is called as `methods`\n",
    "4. class methods must have `self` as its first parameter (`self` is general name we use, but you are free to use any name)\n",
    "5. By using `self` in the method, we pass object itself as a first paramter\n",
    "6. So, when i call - `object.method()` , this will be converted to `class.method(object)`"
   ]
  },
  {
   "cell_type": "code",
   "execution_count": 2,
   "id": "7a6bb3f3-ed9e-4198-b389-d026b126ce2f",
   "metadata": {
    "tags": []
   },
   "outputs": [],
   "source": [
    "class example():\n",
    "    def fun(self):\n",
    "        pass # null statement"
   ]
  },
  {
   "cell_type": "code",
   "execution_count": 3,
   "id": "85aeebc0-4547-4e88-839d-3e39f114d34c",
   "metadata": {
    "tags": []
   },
   "outputs": [
    {
     "name": "stdout",
     "output_type": "stream",
     "text": [
      "<__main__.example object at 0x10aa72dd0>\n"
     ]
    }
   ],
   "source": [
    "# object_name = class_name()\n",
    "\n",
    "obj1 = example()\n",
    "print(obj1)"
   ]
  },
  {
   "cell_type": "code",
   "execution_count": 4,
   "id": "12b8522e-bc1a-4e53-94e1-6378f2a78b33",
   "metadata": {
    "tags": []
   },
   "outputs": [
    {
     "name": "stdout",
     "output_type": "stream",
     "text": [
      "<class '__main__.example'>\n"
     ]
    }
   ],
   "source": [
    "print(example)"
   ]
  },
  {
   "cell_type": "code",
   "execution_count": 5,
   "id": "08ff4e11-b36a-4106-a3c0-6ff875a344b6",
   "metadata": {
    "tags": []
   },
   "outputs": [],
   "source": [
    "obj1.fun() # call the method inside a class"
   ]
  },
  {
   "cell_type": "code",
   "execution_count": 6,
   "id": "b1e483f5-0ad3-4e65-835c-47043682ede0",
   "metadata": {
    "tags": []
   },
   "outputs": [
    {
     "name": "stdout",
     "output_type": "stream",
     "text": [
      "<__main__.example object at 0x10adb8710>\n"
     ]
    }
   ],
   "source": [
    "obj2 = example()\n",
    "print(obj2)"
   ]
  },
  {
   "cell_type": "markdown",
   "id": "b09e3dbe-5170-46d9-b111-d4918531a105",
   "metadata": {},
   "source": [
    "## Attributes\n",
    "\n",
    "Variables inside a class or object"
   ]
  },
  {
   "cell_type": "code",
   "execution_count": 8,
   "id": "dbf31a83-0fc5-46da-9b8d-b0fde2210cf5",
   "metadata": {
    "tags": []
   },
   "outputs": [],
   "source": [
    "class example():\n",
    "    def fun(self):\n",
    "        pass # null statement\n",
    "    \n",
    "obj1 = example()"
   ]
  },
  {
   "cell_type": "code",
   "execution_count": 9,
   "id": "5b1f7f8b-49fd-43d2-bb9e-4afb5fc4dfbf",
   "metadata": {
    "tags": []
   },
   "outputs": [],
   "source": [
    "obj1.name = \"john\" # assign the value for the object\n",
    "obj1.age = 45"
   ]
  },
  {
   "cell_type": "code",
   "execution_count": 10,
   "id": "5b827d70-d794-485c-b708-ee9580cf5608",
   "metadata": {
    "tags": []
   },
   "outputs": [
    {
     "data": {
      "text/plain": [
       "('john', 45)"
      ]
     },
     "execution_count": 10,
     "metadata": {},
     "output_type": "execute_result"
    }
   ],
   "source": [
    "obj1.name, obj1.age"
   ]
  },
  {
   "cell_type": "code",
   "execution_count": 11,
   "id": "53759bd6-6143-499e-ae81-93c6f5f02922",
   "metadata": {
    "tags": []
   },
   "outputs": [],
   "source": [
    "obj2 = example()"
   ]
  },
  {
   "cell_type": "code",
   "execution_count": 12,
   "id": "938abcd8-6901-4083-af23-6d1e9a6086ff",
   "metadata": {
    "tags": []
   },
   "outputs": [
    {
     "ename": "AttributeError",
     "evalue": "'example' object has no attribute 'name'",
     "output_type": "error",
     "traceback": [
      "\u001b[0;31m---------------------------------------------------------------------------\u001b[0m",
      "\u001b[0;31mAttributeError\u001b[0m                            Traceback (most recent call last)",
      "Cell \u001b[0;32mIn[12], line 1\u001b[0m\n\u001b[0;32m----> 1\u001b[0m obj2\u001b[38;5;241m.\u001b[39mname\n",
      "\u001b[0;31mAttributeError\u001b[0m: 'example' object has no attribute 'name'"
     ]
    }
   ],
   "source": [
    "obj2.name"
   ]
  },
  {
   "cell_type": "code",
   "execution_count": 13,
   "id": "0795baa4-b3c4-4c0a-84f0-438620615377",
   "metadata": {
    "tags": []
   },
   "outputs": [],
   "source": [
    "example.name = \"Johnny\""
   ]
  },
  {
   "cell_type": "code",
   "execution_count": 14,
   "id": "8835d151-db15-4d24-a296-cd0a63eb385f",
   "metadata": {
    "tags": []
   },
   "outputs": [
    {
     "data": {
      "text/plain": [
       "'Johnny'"
      ]
     },
     "execution_count": 14,
     "metadata": {},
     "output_type": "execute_result"
    }
   ],
   "source": [
    "example.name"
   ]
  },
  {
   "cell_type": "code",
   "execution_count": 15,
   "id": "1bc0955d-2858-4c0c-bd48-dadec5200239",
   "metadata": {
    "tags": []
   },
   "outputs": [],
   "source": [
    "obj3 = example()"
   ]
  },
  {
   "cell_type": "code",
   "execution_count": 16,
   "id": "2bbc48af-c918-4d72-93c8-522d2e6a7818",
   "metadata": {
    "tags": []
   },
   "outputs": [
    {
     "data": {
      "text/plain": [
       "'Johnny'"
      ]
     },
     "execution_count": 16,
     "metadata": {},
     "output_type": "execute_result"
    }
   ],
   "source": [
    "obj3.name"
   ]
  },
  {
   "cell_type": "code",
   "execution_count": 18,
   "id": "15d641ef-59ed-4ff8-852f-5625fb7dc853",
   "metadata": {
    "tags": []
   },
   "outputs": [
    {
     "data": {
      "text/plain": [
       "'Johnny'"
      ]
     },
     "execution_count": 18,
     "metadata": {},
     "output_type": "execute_result"
    }
   ],
   "source": [
    "obj2.name"
   ]
  },
  {
   "cell_type": "code",
   "execution_count": 19,
   "id": "aa3add09-19c1-4b59-9ab9-e80aee04f655",
   "metadata": {
    "tags": []
   },
   "outputs": [
    {
     "data": {
      "text/plain": [
       "'john'"
      ]
     },
     "execution_count": 19,
     "metadata": {},
     "output_type": "execute_result"
    }
   ],
   "source": [
    "obj1.name"
   ]
  },
  {
   "cell_type": "code",
   "execution_count": 20,
   "id": "53fc3cdb-37c8-4740-bea7-3faa56386e31",
   "metadata": {
    "tags": []
   },
   "outputs": [],
   "source": [
    "class example():\n",
    "    def fun(self):\n",
    "        return \"hello\""
   ]
  },
  {
   "cell_type": "code",
   "execution_count": 21,
   "id": "55cc4aec-6e7b-4fce-8fe0-75dce543ab70",
   "metadata": {
    "tags": []
   },
   "outputs": [],
   "source": [
    "obj1 = example()"
   ]
  },
  {
   "cell_type": "code",
   "execution_count": 22,
   "id": "e59ba619-45c0-4ee4-b321-23b73123fad0",
   "metadata": {
    "tags": []
   },
   "outputs": [
    {
     "data": {
      "text/plain": [
       "'hello'"
      ]
     },
     "execution_count": 22,
     "metadata": {},
     "output_type": "execute_result"
    }
   ],
   "source": [
    "obj1.fun()"
   ]
  },
  {
   "cell_type": "code",
   "execution_count": 23,
   "id": "444a963e-91f6-4b08-910d-57c934d48d2d",
   "metadata": {
    "tags": []
   },
   "outputs": [
    {
     "data": {
      "text/plain": [
       "'hello'"
      ]
     },
     "execution_count": 23,
     "metadata": {},
     "output_type": "execute_result"
    }
   ],
   "source": [
    "example.fun(obj1)"
   ]
  },
  {
   "cell_type": "markdown",
   "id": "eb47b772-8daa-48f9-8861-40b1af85b107",
   "metadata": {},
   "source": [
    "## Initialization"
   ]
  },
  {
   "cell_type": "code",
   "execution_count": 24,
   "id": "b7e41ef6-ad62-4db2-aaa1-b97aa15a70e7",
   "metadata": {
    "tags": []
   },
   "outputs": [],
   "source": [
    "class example():\n",
    "    def __init__(self, name):\n",
    "        self.n1 = name"
   ]
  },
  {
   "cell_type": "code",
   "execution_count": 25,
   "id": "4e3243c8-d92a-40d7-8410-be15cad1786d",
   "metadata": {
    "tags": []
   },
   "outputs": [
    {
     "ename": "TypeError",
     "evalue": "example.__init__() missing 1 required positional argument: 'name'",
     "output_type": "error",
     "traceback": [
      "\u001b[0;31m---------------------------------------------------------------------------\u001b[0m",
      "\u001b[0;31mTypeError\u001b[0m                                 Traceback (most recent call last)",
      "Cell \u001b[0;32mIn[25], line 1\u001b[0m\n\u001b[0;32m----> 1\u001b[0m obj1 \u001b[38;5;241m=\u001b[39m example()\n",
      "\u001b[0;31mTypeError\u001b[0m: example.__init__() missing 1 required positional argument: 'name'"
     ]
    }
   ],
   "source": [
    "obj1 = example() # error"
   ]
  },
  {
   "cell_type": "code",
   "execution_count": 27,
   "id": "a18f75fa-ae35-4d86-83f0-42cda7c77fe0",
   "metadata": {
    "tags": []
   },
   "outputs": [],
   "source": [
    "obj1 = example(name='jacob')"
   ]
  },
  {
   "cell_type": "code",
   "execution_count": 28,
   "id": "ebf0f667-a637-456e-9070-92d8ec50d6e9",
   "metadata": {
    "tags": []
   },
   "outputs": [
    {
     "data": {
      "text/plain": [
       "'jacob'"
      ]
     },
     "execution_count": 28,
     "metadata": {},
     "output_type": "execute_result"
    }
   ],
   "source": [
    "obj1.n1"
   ]
  },
  {
   "cell_type": "code",
   "execution_count": 29,
   "id": "3695eb69-7fab-4562-be62-7cf06bc2797b",
   "metadata": {
    "tags": []
   },
   "outputs": [],
   "source": [
    "class example():\n",
    "    def __init__(self, name):\n",
    "        self.name = name"
   ]
  },
  {
   "cell_type": "code",
   "execution_count": 30,
   "id": "b3e496d5-18f3-48a5-b169-7bd3d8265432",
   "metadata": {
    "tags": []
   },
   "outputs": [],
   "source": [
    "obj1 = example(name='jacob')"
   ]
  },
  {
   "cell_type": "code",
   "execution_count": 31,
   "id": "64c485f4-cfef-455f-8cdb-44a42a743a7a",
   "metadata": {
    "tags": []
   },
   "outputs": [
    {
     "data": {
      "text/plain": [
       "'jacob'"
      ]
     },
     "execution_count": 31,
     "metadata": {},
     "output_type": "execute_result"
    }
   ],
   "source": [
    "obj1.name"
   ]
  },
  {
   "cell_type": "code",
   "execution_count": 32,
   "id": "f7fe9ead-873b-46ae-8a9f-f532a86b83b7",
   "metadata": {
    "tags": []
   },
   "outputs": [],
   "source": [
    "obj1.name = \"lakshman\""
   ]
  },
  {
   "cell_type": "code",
   "execution_count": null,
   "id": "7958bd3d-ee59-4a91-bc9b-5acdb2295ae1",
   "metadata": {},
   "outputs": [],
   "source": [
    "# Write a class that takes two inputs - Name and favorite ice cream\n",
    "# Write a method which displays the same\n",
    "\n",
    "# Try out by creating 2 objects"
   ]
  },
  {
   "cell_type": "code",
   "execution_count": null,
   "id": "a3238535-0b3f-43d9-a2dc-66357fed7bb7",
   "metadata": {},
   "outputs": [],
   "source": []
  },
  {
   "cell_type": "code",
   "execution_count": null,
   "id": "dd39eb12-002c-4030-9eed-69385de3dc16",
   "metadata": {},
   "outputs": [],
   "source": []
  },
  {
   "cell_type": "code",
   "execution_count": null,
   "id": "e9341367-4d8f-464f-9b72-0a84a403ad03",
   "metadata": {},
   "outputs": [],
   "source": []
  },
  {
   "cell_type": "code",
   "execution_count": null,
   "id": "637301ff-9392-4dcb-afa6-3b1f66585a13",
   "metadata": {},
   "outputs": [],
   "source": []
  },
  {
   "cell_type": "code",
   "execution_count": null,
   "id": "6e6bfd6e-4dcc-4a60-8be0-acada55f9f4a",
   "metadata": {},
   "outputs": [],
   "source": []
  },
  {
   "cell_type": "code",
   "execution_count": null,
   "id": "04c76b32-49a3-4a83-8d51-d5068f25b316",
   "metadata": {},
   "outputs": [],
   "source": []
  },
  {
   "cell_type": "code",
   "execution_count": null,
   "id": "890740a2-7b25-45ce-8dc6-97117f585d8c",
   "metadata": {},
   "outputs": [],
   "source": []
  },
  {
   "cell_type": "code",
   "execution_count": null,
   "id": "42a30794-823f-4d9f-bda7-3bbfbe34250e",
   "metadata": {},
   "outputs": [],
   "source": []
  },
  {
   "cell_type": "code",
   "execution_count": null,
   "id": "5b5a2214-bc91-4f98-a57c-510ce456dbe5",
   "metadata": {},
   "outputs": [],
   "source": []
  },
  {
   "cell_type": "code",
   "execution_count": null,
   "id": "ef508401-5cf5-4fee-b1ae-ce116960654a",
   "metadata": {},
   "outputs": [],
   "source": []
  },
  {
   "cell_type": "code",
   "execution_count": null,
   "id": "98fe1c05-cdc3-49da-9ea4-f961224a87e5",
   "metadata": {},
   "outputs": [],
   "source": []
  }
 ],
 "metadata": {
  "kernelspec": {
   "display_name": "Python 3 (ipykernel)",
   "language": "python",
   "name": "python3"
  },
  "language_info": {
   "codemirror_mode": {
    "name": "ipython",
    "version": 3
   },
   "file_extension": ".py",
   "mimetype": "text/x-python",
   "name": "python",
   "nbconvert_exporter": "python",
   "pygments_lexer": "ipython3",
   "version": "3.11.3"
  }
 },
 "nbformat": 4,
 "nbformat_minor": 5
}
