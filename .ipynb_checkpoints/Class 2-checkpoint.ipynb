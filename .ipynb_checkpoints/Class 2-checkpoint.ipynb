{
 "cells": [
  {
   "cell_type": "markdown",
   "id": "61db36b8-dc30-4ce8-8203-8a7435138b78",
   "metadata": {},
   "source": [
    "# Agenda\n",
    "- Data Structures - List, Tuples, Dict, Sets\n",
    "- Conditional Statementes - if - else\n",
    "- Control Statements - for,while\n",
    "- String Formatting\n",
    "- Functions in Pythong\n",
    "- List comprehension\n",
    "- Introduction to OOPs"
   ]
  },
  {
   "cell_type": "markdown",
   "id": "f99b8de1-722d-4cbe-98ae-7856e42e1313",
   "metadata": {},
   "source": [
    "# List"
   ]
  },
  {
   "cell_type": "markdown",
   "id": "3dd88035-5795-4719-8f69-d233ceca0eb5",
   "metadata": {},
   "source": [
    "- it can hold multiple values (any data type)\n",
    "- values are separate by comma\n",
    "- entire collection is enclosed within square brackets\n",
    "- modified\n",
    "\n",
    "Operations:\n",
    "- Indexing - getting the element based on its position\n",
    "- Slicing - getting the collection of elements based on the position\n",
    "- Concatenation \n",
    "- Membership testing\n",
    "- len()\n"
   ]
  },
  {
   "cell_type": "code",
   "execution_count": 1,
   "id": "90f7347b-2248-400d-a270-11b4eab19324",
   "metadata": {
    "tags": []
   },
   "outputs": [
    {
     "data": {
      "text/plain": [
       "list"
      ]
     },
     "execution_count": 1,
     "metadata": {},
     "output_type": "execute_result"
    }
   ],
   "source": [
    "l1 = [10,\"hello\",25.5, 21,\"world\"]\n",
    "type(l1)"
   ]
  },
  {
   "cell_type": "code",
   "execution_count": 2,
   "id": "f704bc4a-61af-4d20-81d4-e8ac70cdd370",
   "metadata": {
    "tags": []
   },
   "outputs": [
    {
     "name": "stdout",
     "output_type": "stream",
     "text": [
      "<class 'list'>\n"
     ]
    }
   ],
   "source": [
    "print(type(l1))"
   ]
  },
  {
   "cell_type": "code",
   "execution_count": 3,
   "id": "c238fd92-37fb-4698-8eb1-4f14a9bc2ea0",
   "metadata": {
    "tags": []
   },
   "outputs": [
    {
     "data": {
      "text/plain": [
       "10"
      ]
     },
     "execution_count": 3,
     "metadata": {},
     "output_type": "execute_result"
    }
   ],
   "source": [
    "l1[0]"
   ]
  },
  {
   "cell_type": "code",
   "execution_count": 4,
   "id": "68423dda-5069-4aef-9bf0-96ce92484900",
   "metadata": {
    "tags": []
   },
   "outputs": [
    {
     "data": {
      "text/plain": [
       "21"
      ]
     },
     "execution_count": 4,
     "metadata": {},
     "output_type": "execute_result"
    }
   ],
   "source": [
    "l1[3]"
   ]
  },
  {
   "cell_type": "code",
   "execution_count": 5,
   "id": "3adfd629-fd2d-403d-a8df-0ec01ef4c9d4",
   "metadata": {
    "tags": []
   },
   "outputs": [
    {
     "data": {
      "text/plain": [
       "'hello'"
      ]
     },
     "execution_count": 5,
     "metadata": {},
     "output_type": "execute_result"
    }
   ],
   "source": [
    "l1[1]"
   ]
  },
  {
   "cell_type": "code",
   "execution_count": 6,
   "id": "5ef54784-fcc3-4ad4-8624-3fd800121382",
   "metadata": {
    "tags": []
   },
   "outputs": [
    {
     "data": {
      "text/plain": [
       "[10, 'hello', 25.5, 21, 'world']"
      ]
     },
     "execution_count": 6,
     "metadata": {},
     "output_type": "execute_result"
    }
   ],
   "source": [
    "l1"
   ]
  },
  {
   "cell_type": "code",
   "execution_count": 7,
   "id": "a6695849-67c1-4516-96be-d23f65093265",
   "metadata": {
    "tags": []
   },
   "outputs": [
    {
     "data": {
      "text/plain": [
       "[99, 'hello', 25.5, 21, 'world']"
      ]
     },
     "execution_count": 7,
     "metadata": {},
     "output_type": "execute_result"
    }
   ],
   "source": [
    "l1[0] = 99\n",
    "l1"
   ]
  },
  {
   "cell_type": "code",
   "execution_count": 8,
   "id": "39c50846-25fa-4d02-ad62-8a6fcf46158d",
   "metadata": {
    "tags": []
   },
   "outputs": [
    {
     "data": {
      "text/plain": [
       "[99, 'hello', 25.5]"
      ]
     },
     "execution_count": 8,
     "metadata": {},
     "output_type": "execute_result"
    }
   ],
   "source": [
    "l1[0:3] # start : end"
   ]
  },
  {
   "cell_type": "code",
   "execution_count": 10,
   "id": "099f8a29-55cf-4a4f-ad13-194aade647c7",
   "metadata": {
    "tags": []
   },
   "outputs": [
    {
     "data": {
      "text/plain": [
       "[25.5, 21]"
      ]
     },
     "execution_count": 10,
     "metadata": {},
     "output_type": "execute_result"
    }
   ],
   "source": [
    "l1[2:4]"
   ]
  },
  {
   "cell_type": "code",
   "execution_count": 11,
   "id": "8158af3f-4ab5-4716-93b6-0b42c9eb1b79",
   "metadata": {
    "tags": []
   },
   "outputs": [
    {
     "data": {
      "text/plain": [
       "5"
      ]
     },
     "execution_count": 11,
     "metadata": {},
     "output_type": "execute_result"
    }
   ],
   "source": [
    "len(l1) # len function"
   ]
  },
  {
   "cell_type": "code",
   "execution_count": 12,
   "id": "b4848952-05c4-491a-9bba-275c52559b7f",
   "metadata": {
    "tags": []
   },
   "outputs": [
    {
     "data": {
      "text/plain": [
       "[25.5, 21, 'world']"
      ]
     },
     "execution_count": 12,
     "metadata": {},
     "output_type": "execute_result"
    }
   ],
   "source": [
    "l1[2:5] # start: length of the sequence"
   ]
  },
  {
   "cell_type": "code",
   "execution_count": 13,
   "id": "7407180c-a971-4d98-9045-ce8ac97240aa",
   "metadata": {
    "tags": []
   },
   "outputs": [
    {
     "data": {
      "text/plain": [
       "[25.5, 21, 'world']"
      ]
     },
     "execution_count": 13,
     "metadata": {},
     "output_type": "execute_result"
    }
   ],
   "source": [
    "l1[2:] #start:  (default it will take till the end of the sequence)"
   ]
  },
  {
   "cell_type": "code",
   "execution_count": 14,
   "id": "1ec37e97-abfe-4781-91af-b363fbf42c33",
   "metadata": {
    "tags": []
   },
   "outputs": [
    {
     "data": {
      "text/plain": [
       "[99, 'hello', 25.5, 21]"
      ]
     },
     "execution_count": 14,
     "metadata": {},
     "output_type": "execute_result"
    }
   ],
   "source": [
    "l1[:4] # default = 0 l1[0:4]"
   ]
  },
  {
   "cell_type": "code",
   "execution_count": 15,
   "id": "fdea44d2-ec01-45f9-a772-a0d43447f5de",
   "metadata": {
    "tags": []
   },
   "outputs": [
    {
     "data": {
      "text/plain": [
       "[99, 'hello', 25.5, 21, 'world']"
      ]
     },
     "execution_count": 15,
     "metadata": {},
     "output_type": "execute_result"
    }
   ],
   "source": [
    "l1"
   ]
  },
  {
   "cell_type": "code",
   "execution_count": 16,
   "id": "9d97279b-5e76-4bf9-9c5a-4c8cdad7cdb1",
   "metadata": {
    "tags": []
   },
   "outputs": [],
   "source": [
    "l2 = [20,30,40]"
   ]
  },
  {
   "cell_type": "code",
   "execution_count": 17,
   "id": "fea08222-c62c-4c12-9172-81de854c096b",
   "metadata": {
    "tags": []
   },
   "outputs": [
    {
     "data": {
      "text/plain": [
       "[99, 'hello', 25.5, 21, 'world', 20, 30, 40]"
      ]
     },
     "execution_count": 17,
     "metadata": {},
     "output_type": "execute_result"
    }
   ],
   "source": [
    "l1 + l2"
   ]
  },
  {
   "cell_type": "code",
   "execution_count": 18,
   "id": "4d3287fe-fcf6-4770-8095-4542a694742c",
   "metadata": {
    "tags": []
   },
   "outputs": [
    {
     "data": {
      "text/plain": [
       "[99, 'hello', 25.5, 21, 'world']"
      ]
     },
     "execution_count": 18,
     "metadata": {},
     "output_type": "execute_result"
    }
   ],
   "source": [
    "l1"
   ]
  },
  {
   "cell_type": "code",
   "execution_count": 19,
   "id": "d5d96629-ae13-4eef-b099-d2b1dfaae8c1",
   "metadata": {
    "tags": []
   },
   "outputs": [
    {
     "data": {
      "text/plain": [
       "[20, 30, 40]"
      ]
     },
     "execution_count": 19,
     "metadata": {},
     "output_type": "execute_result"
    }
   ],
   "source": [
    "l2"
   ]
  },
  {
   "cell_type": "code",
   "execution_count": 20,
   "id": "58788eaf-64dd-4338-90be-9cad6b20d081",
   "metadata": {
    "tags": []
   },
   "outputs": [
    {
     "data": {
      "text/plain": [
       "True"
      ]
     },
     "execution_count": 20,
     "metadata": {},
     "output_type": "execute_result"
    }
   ],
   "source": [
    "99 in l1"
   ]
  },
  {
   "cell_type": "code",
   "execution_count": 21,
   "id": "cd89e09f-dbc5-4338-806d-98a34d99c599",
   "metadata": {
    "tags": []
   },
   "outputs": [
    {
     "data": {
      "text/plain": [
       "True"
      ]
     },
     "execution_count": 21,
     "metadata": {},
     "output_type": "execute_result"
    }
   ],
   "source": [
    "100 not in l1"
   ]
  },
  {
   "cell_type": "markdown",
   "id": "50b15a55-1aa4-4533-8e85-99c9916b8baf",
   "metadata": {},
   "source": [
    "## Built-in functions"
   ]
  },
  {
   "cell_type": "code",
   "execution_count": 22,
   "id": "642dd7a6-94af-49e3-85c8-097e0a094ee9",
   "metadata": {
    "tags": []
   },
   "outputs": [],
   "source": [
    "l1.append('python')"
   ]
  },
  {
   "cell_type": "code",
   "execution_count": 23,
   "id": "89869a9d-8072-4043-9afa-f26a34d1d1bb",
   "metadata": {
    "tags": []
   },
   "outputs": [
    {
     "data": {
      "text/plain": [
       "[99, 'hello', 25.5, 21, 'world', 'python']"
      ]
     },
     "execution_count": 23,
     "metadata": {},
     "output_type": "execute_result"
    }
   ],
   "source": [
    "l1"
   ]
  },
  {
   "cell_type": "code",
   "execution_count": 24,
   "id": "ca80f4d1-3326-4979-9c7e-b44e660df607",
   "metadata": {
    "tags": []
   },
   "outputs": [],
   "source": [
    "l1.remove(21)"
   ]
  },
  {
   "cell_type": "code",
   "execution_count": 25,
   "id": "8862b055-02f1-42d0-9550-2fdac19a1b21",
   "metadata": {
    "tags": []
   },
   "outputs": [
    {
     "data": {
      "text/plain": [
       "[99, 'hello', 25.5, 'world', 'python']"
      ]
     },
     "execution_count": 25,
     "metadata": {},
     "output_type": "execute_result"
    }
   ],
   "source": [
    "l1"
   ]
  },
  {
   "cell_type": "code",
   "execution_count": null,
   "id": "15e7306f-1c51-4304-a9c3-51116f93f79a",
   "metadata": {},
   "outputs": [],
   "source": [
    "# l1.<tab> - completion\n",
    "# l1.append(shift+tab) --> documentation"
   ]
  },
  {
   "cell_type": "markdown",
   "id": "70f68341-93d7-49e8-a2d9-8c1994791f9d",
   "metadata": {},
   "source": [
    "# Tuples\n",
    "\n",
    "- can hold the values of various data type\n",
    "- enclosed within parenthesis\n",
    "- values are immutable\n",
    "\n",
    "Operations of Sequences will work by default"
   ]
  },
  {
   "cell_type": "code",
   "execution_count": 26,
   "id": "168c1c95-8266-43d9-ade9-d021e78db40c",
   "metadata": {
    "tags": []
   },
   "outputs": [
    {
     "data": {
      "text/plain": [
       "tuple"
      ]
     },
     "execution_count": 26,
     "metadata": {},
     "output_type": "execute_result"
    }
   ],
   "source": [
    "tup = (10,20,30,40,\"hello\")\n",
    "type(tup)"
   ]
  },
  {
   "cell_type": "code",
   "execution_count": 27,
   "id": "93c25ed9-e5e3-49a7-8ffd-dc6505b03dda",
   "metadata": {
    "tags": []
   },
   "outputs": [
    {
     "data": {
      "text/plain": [
       "40"
      ]
     },
     "execution_count": 27,
     "metadata": {},
     "output_type": "execute_result"
    }
   ],
   "source": [
    "# indexing\n",
    "tup[3]"
   ]
  },
  {
   "cell_type": "code",
   "execution_count": 28,
   "id": "eebb4225-2398-4b14-b417-199010ffeb5c",
   "metadata": {
    "tags": []
   },
   "outputs": [
    {
     "data": {
      "text/plain": [
       "(10, 20, 30)"
      ]
     },
     "execution_count": 28,
     "metadata": {},
     "output_type": "execute_result"
    }
   ],
   "source": [
    "#slicing\n",
    "tup[0:3]"
   ]
  },
  {
   "cell_type": "code",
   "execution_count": 29,
   "id": "5b71953f-d430-4478-a2dc-5e438d274df0",
   "metadata": {
    "tags": []
   },
   "outputs": [
    {
     "data": {
      "text/plain": [
       "(10, 20, 30, 40, 'hello', 10, 20, 30)"
      ]
     },
     "execution_count": 29,
     "metadata": {},
     "output_type": "execute_result"
    }
   ],
   "source": [
    "#concatenation\n",
    "tup2 = (10,20,30)\n",
    "tup + tup2"
   ]
  },
  {
   "cell_type": "code",
   "execution_count": 30,
   "id": "cf71ab12-81db-4483-85a0-a096ec611416",
   "metadata": {
    "tags": []
   },
   "outputs": [
    {
     "data": {
      "text/plain": [
       "True"
      ]
     },
     "execution_count": 30,
     "metadata": {},
     "output_type": "execute_result"
    }
   ],
   "source": [
    "# membership testing\n",
    "10 in tup"
   ]
  },
  {
   "cell_type": "code",
   "execution_count": 31,
   "id": "a8133b41-149f-4d07-96bc-e0cd6bd32d89",
   "metadata": {
    "tags": []
   },
   "outputs": [
    {
     "data": {
      "text/plain": [
       "(10, 20, 30, 40, 'hello')"
      ]
     },
     "execution_count": 31,
     "metadata": {},
     "output_type": "execute_result"
    }
   ],
   "source": [
    "tup"
   ]
  },
  {
   "cell_type": "code",
   "execution_count": 32,
   "id": "97d9a037-267f-4f94-9c48-3b3c94b33948",
   "metadata": {
    "tags": []
   },
   "outputs": [
    {
     "ename": "TypeError",
     "evalue": "'tuple' object does not support item assignment",
     "output_type": "error",
     "traceback": [
      "\u001b[0;31m---------------------------------------------------------------------------\u001b[0m",
      "\u001b[0;31mTypeError\u001b[0m                                 Traceback (most recent call last)",
      "Cell \u001b[0;32mIn[32], line 1\u001b[0m\n\u001b[0;32m----> 1\u001b[0m tup[\u001b[38;5;241m2\u001b[39m] \u001b[38;5;241m=\u001b[39m \u001b[38;5;124m\"\u001b[39m\u001b[38;5;124mpython\u001b[39m\u001b[38;5;124m\"\u001b[39m\n",
      "\u001b[0;31mTypeError\u001b[0m: 'tuple' object does not support item assignment"
     ]
    }
   ],
   "source": [
    "tup[2] = \"python\""
   ]
  },
  {
   "cell_type": "code",
   "execution_count": 33,
   "id": "ef6cf4fa-0d3d-49c8-8782-abeca99140c8",
   "metadata": {
    "tags": []
   },
   "outputs": [],
   "source": [
    "# Tuples are faster than list"
   ]
  },
  {
   "cell_type": "markdown",
   "id": "b73a5c07-1387-4e1d-9429-5788df7563c8",
   "metadata": {},
   "source": [
    "# Dictionary\n",
    "- contains the key:value pair\n",
    "- each pair is seprated by comma\n",
    "- collection is enclosed within curly braces"
   ]
  },
  {
   "cell_type": "code",
   "execution_count": 34,
   "id": "cb2abf5c-a532-4479-b661-c65780dc74b2",
   "metadata": {
    "tags": []
   },
   "outputs": [
    {
     "data": {
      "text/plain": [
       "dict"
      ]
     },
     "execution_count": 34,
     "metadata": {},
     "output_type": "execute_result"
    }
   ],
   "source": [
    "d1 = {\"name\": \"jack\",\n",
    "     \"age\":42,\n",
    "     \"occupation\":\"army\"}\n",
    "type(d1)"
   ]
  },
  {
   "cell_type": "code",
   "execution_count": 35,
   "id": "3a4219fc-fb7b-4da0-95ef-f058f825be4d",
   "metadata": {
    "tags": []
   },
   "outputs": [
    {
     "data": {
      "text/plain": [
       "42"
      ]
     },
     "execution_count": 35,
     "metadata": {},
     "output_type": "execute_result"
    }
   ],
   "source": [
    "d1['age']"
   ]
  },
  {
   "cell_type": "code",
   "execution_count": 36,
   "id": "eaee3159-ce83-4671-b59c-2e82e2a2dbea",
   "metadata": {
    "tags": []
   },
   "outputs": [
    {
     "data": {
      "text/plain": [
       "'jack'"
      ]
     },
     "execution_count": 36,
     "metadata": {},
     "output_type": "execute_result"
    }
   ],
   "source": [
    "d1['name']"
   ]
  },
  {
   "cell_type": "code",
   "execution_count": 39,
   "id": "305fa495-4bd9-4efb-9c79-03612af38a5e",
   "metadata": {
    "tags": []
   },
   "outputs": [],
   "source": [
    "d1['last_name'] = \"Reacher\""
   ]
  },
  {
   "cell_type": "code",
   "execution_count": 40,
   "id": "b72b17be-7fba-4aa4-9fca-9f6b5d783a88",
   "metadata": {
    "tags": []
   },
   "outputs": [
    {
     "data": {
      "text/plain": [
       "{'name': 'jack', 'age': 42, 'occupation': 'army', 'last_name': 'Reacher'}"
      ]
     },
     "execution_count": 40,
     "metadata": {},
     "output_type": "execute_result"
    }
   ],
   "source": [
    "d1"
   ]
  },
  {
   "cell_type": "code",
   "execution_count": 41,
   "id": "7475c4e1-b6f9-4376-a791-e0a37ef6d7a5",
   "metadata": {
    "tags": []
   },
   "outputs": [],
   "source": [
    "d1['age'] = 50"
   ]
  },
  {
   "cell_type": "code",
   "execution_count": 42,
   "id": "455caea5-15e7-4d79-8019-53a88fa391eb",
   "metadata": {
    "tags": []
   },
   "outputs": [
    {
     "data": {
      "text/plain": [
       "{'name': 'jack', 'age': 50, 'occupation': 'army', 'last_name': 'Reacher'}"
      ]
     },
     "execution_count": 42,
     "metadata": {},
     "output_type": "execute_result"
    }
   ],
   "source": [
    "d1"
   ]
  },
  {
   "cell_type": "code",
   "execution_count": 43,
   "id": "73edeb0b-f81c-42e6-81f1-7ff98f187d42",
   "metadata": {
    "tags": []
   },
   "outputs": [
    {
     "data": {
      "text/plain": [
       "dict"
      ]
     },
     "execution_count": 43,
     "metadata": {},
     "output_type": "execute_result"
    }
   ],
   "source": [
    "d1 = {\"name\": \"jack\",\n",
    "     \"age\":42,\n",
    "     \"occupation\":\"army\",\n",
    "     'name':'reacher'}\n",
    "type(d1)"
   ]
  },
  {
   "cell_type": "code",
   "execution_count": 44,
   "id": "3380767a-adce-46be-9d24-cea9856294a0",
   "metadata": {
    "tags": []
   },
   "outputs": [
    {
     "data": {
      "text/plain": [
       "{'name': 'reacher', 'age': 42, 'occupation': 'army'}"
      ]
     },
     "execution_count": 44,
     "metadata": {},
     "output_type": "execute_result"
    }
   ],
   "source": [
    "d1"
   ]
  },
  {
   "cell_type": "code",
   "execution_count": 45,
   "id": "6d02de06-c9bf-4d93-ae42-5ab17ff5667a",
   "metadata": {
    "tags": []
   },
   "outputs": [
    {
     "data": {
      "text/plain": [
       "dict_keys(['name', 'age', 'occupation'])"
      ]
     },
     "execution_count": 45,
     "metadata": {},
     "output_type": "execute_result"
    }
   ],
   "source": [
    "# Built-in functions\n",
    "d1.keys()"
   ]
  },
  {
   "cell_type": "code",
   "execution_count": 47,
   "id": "6cc2a989-d293-4bd3-8af6-3557816b6e00",
   "metadata": {
    "tags": []
   },
   "outputs": [
    {
     "data": {
      "text/plain": [
       "dict_values(['reacher', 42, 'army'])"
      ]
     },
     "execution_count": 47,
     "metadata": {},
     "output_type": "execute_result"
    }
   ],
   "source": [
    "d1.values() # values"
   ]
  },
  {
   "cell_type": "code",
   "execution_count": 48,
   "id": "3bc917ff-88fe-4174-a7b6-35e56656a432",
   "metadata": {
    "tags": []
   },
   "outputs": [
    {
     "data": {
      "text/plain": [
       "dict_items([('name', 'reacher'), ('age', 42), ('occupation', 'army')])"
      ]
     },
     "execution_count": 48,
     "metadata": {},
     "output_type": "execute_result"
    }
   ],
   "source": [
    "d1.items() # return key-pair as tuples"
   ]
  },
  {
   "cell_type": "code",
   "execution_count": 50,
   "id": "47c0b821-191b-4ab9-a800-5f9285586944",
   "metadata": {
    "tags": []
   },
   "outputs": [
    {
     "data": {
      "text/plain": [
       "'reacher'"
      ]
     },
     "execution_count": 50,
     "metadata": {},
     "output_type": "execute_result"
    }
   ],
   "source": [
    "d1.pop('name')"
   ]
  },
  {
   "cell_type": "code",
   "execution_count": 51,
   "id": "d7bd94bf-0ba4-49ec-82db-1a3b869df3fc",
   "metadata": {
    "tags": []
   },
   "outputs": [
    {
     "data": {
      "text/plain": [
       "{'age': 42, 'occupation': 'army'}"
      ]
     },
     "execution_count": 51,
     "metadata": {},
     "output_type": "execute_result"
    }
   ],
   "source": [
    "d1"
   ]
  },
  {
   "cell_type": "markdown",
   "id": "67aa9501-d729-4825-b2c0-022bfc5b280d",
   "metadata": {},
   "source": [
    "# Sets\n",
    "- values are enclosed in curly braces\n",
    "- can contain only unique values\n",
    "- unordered"
   ]
  },
  {
   "cell_type": "code",
   "execution_count": 53,
   "id": "dae7d7c2-47b8-410e-900e-8c301d2e29bb",
   "metadata": {
    "tags": []
   },
   "outputs": [
    {
     "data": {
      "text/plain": [
       "{10, 20, 30, 'hello', 'jack', 'world'}"
      ]
     },
     "execution_count": 53,
     "metadata": {},
     "output_type": "execute_result"
    }
   ],
   "source": [
    "s1 = {10,20,30,10,20,\"hello\",\"world\",20,30,\"jack\"}\n",
    "s1"
   ]
  },
  {
   "cell_type": "code",
   "execution_count": 54,
   "id": "9a2220c6-d6b7-45da-b978-09d905bf3062",
   "metadata": {
    "tags": []
   },
   "outputs": [
    {
     "data": {
      "text/plain": [
       "True"
      ]
     },
     "execution_count": 54,
     "metadata": {},
     "output_type": "execute_result"
    }
   ],
   "source": [
    "# membership testing\n",
    "10 in s1"
   ]
  },
  {
   "cell_type": "code",
   "execution_count": 55,
   "id": "686c9f40-70fe-49be-8680-57b79bfd00af",
   "metadata": {
    "tags": []
   },
   "outputs": [
    {
     "ename": "TypeError",
     "evalue": "'set' object is not subscriptable",
     "output_type": "error",
     "traceback": [
      "\u001b[0;31m---------------------------------------------------------------------------\u001b[0m",
      "\u001b[0;31mTypeError\u001b[0m                                 Traceback (most recent call last)",
      "Cell \u001b[0;32mIn[55], line 1\u001b[0m\n\u001b[0;32m----> 1\u001b[0m s1[\u001b[38;5;241m0\u001b[39m]\n",
      "\u001b[0;31mTypeError\u001b[0m: 'set' object is not subscriptable"
     ]
    }
   ],
   "source": [
    "s1[0]"
   ]
  },
  {
   "cell_type": "code",
   "execution_count": 56,
   "id": "3e6af887-1805-4959-bcee-ceb723ecdaf0",
   "metadata": {
    "tags": []
   },
   "outputs": [],
   "source": [
    "s1.remove(10)"
   ]
  },
  {
   "cell_type": "code",
   "execution_count": 57,
   "id": "f476951a-2135-4990-86f7-3bf97924e6a3",
   "metadata": {
    "tags": []
   },
   "outputs": [
    {
     "data": {
      "text/plain": [
       "{20, 30, 'hello', 'jack', 'world'}"
      ]
     },
     "execution_count": 57,
     "metadata": {},
     "output_type": "execute_result"
    }
   ],
   "source": [
    "s1"
   ]
  },
  {
   "cell_type": "code",
   "execution_count": null,
   "id": "1747c5c3-4984-4526-8ff3-9f9ebcd89f34",
   "metadata": {},
   "outputs": [],
   "source": []
  }
 ],
 "metadata": {
  "kernelspec": {
   "display_name": "Python 3 (ipykernel)",
   "language": "python",
   "name": "python3"
  },
  "language_info": {
   "codemirror_mode": {
    "name": "ipython",
    "version": 3
   },
   "file_extension": ".py",
   "mimetype": "text/x-python",
   "name": "python",
   "nbconvert_exporter": "python",
   "pygments_lexer": "ipython3",
   "version": "3.11.3"
  }
 },
 "nbformat": 4,
 "nbformat_minor": 5
}
