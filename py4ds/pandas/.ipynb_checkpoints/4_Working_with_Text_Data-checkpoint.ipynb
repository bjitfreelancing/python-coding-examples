{
 "cells": [
  {
   "cell_type": "markdown",
   "id": "3ac1f235-a802-42a8-8508-3e9eccde56ed",
   "metadata": {},
   "source": [
    "# __Working with Text Data in Pandas__\n",
    "\n",
    "## __Agenda__\n",
    "\n",
    "In this lesson, we will cover the following concepts with the help of examples:\n",
    "\n",
    "- Text Data in Pandas\n",
    "- Iteration\n",
    "  * Iterating over Rows\n",
    "  * Applying a Function to Each Element\n",
    "  * Vectorized Operations\n",
    "  * Iterating over Series\n",
    "- Sorting\n",
    "  * Sorting DataFrame by Column\n",
    "  * Sorting DataFrame by Multiple Columns\n",
    "  * Sorting DataFrame by Index\n",
    "  * Sorting a Series\n",
    "- Plotting with Pandas"
   ]
  },
  {
   "cell_type": "markdown",
   "id": "4b4e0cab-099d-41a8-9968-67b821e3b86d",
   "metadata": {},
   "source": [
    "### __1. Text Data in Pandas__\n",
    "\n",
    "Working with text data in Pandas involves various operations to manipulate and analyze textual information. Here are some common text data operations using Pandas:"
   ]
  },
  {
   "cell_type": "code",
   "execution_count": 1,
   "id": "0103555d-7d01-47e2-8ca5-2b05564278e5",
   "metadata": {},
   "outputs": [
    {
     "name": "stdout",
     "output_type": "stream",
     "text": [
      "Length of each string:\n",
      "         Column  Length\n",
      "0         Hello       5\n",
      "1         World       5\n",
      "2        Python       6\n",
      "3  Data Science      12\n"
     ]
    }
   ],
   "source": [
    "# Assuming 'df' is DataFrame with a 'Column' containing text data\n",
    "import pandas as pd\n",
    "\n",
    "df = pd.DataFrame({'Column': ['Hello', 'World', 'Python', 'Data Science']})\n",
    "\n",
    "# Calculates the length of each string\n",
    "df['Length'] = df['Column'].str.len()\n",
    "print(\"Length of each string:\")\n",
    "print(df[['Column', 'Length']])\n"
   ]
  },
  {
   "cell_type": "code",
   "execution_count": 2,
   "id": "19fd92a4-88c4-4455-b7ce-8206cad752a1",
   "metadata": {
    "tags": []
   },
   "outputs": [
    {
     "data": {
      "text/html": [
       "<div>\n",
       "<style scoped>\n",
       "    .dataframe tbody tr th:only-of-type {\n",
       "        vertical-align: middle;\n",
       "    }\n",
       "\n",
       "    .dataframe tbody tr th {\n",
       "        vertical-align: top;\n",
       "    }\n",
       "\n",
       "    .dataframe thead th {\n",
       "        text-align: right;\n",
       "    }\n",
       "</style>\n",
       "<table border=\"1\" class=\"dataframe\">\n",
       "  <thead>\n",
       "    <tr style=\"text-align: right;\">\n",
       "      <th></th>\n",
       "      <th>Column</th>\n",
       "      <th>Length</th>\n",
       "    </tr>\n",
       "  </thead>\n",
       "  <tbody>\n",
       "    <tr>\n",
       "      <th>0</th>\n",
       "      <td>Hello</td>\n",
       "      <td>5</td>\n",
       "    </tr>\n",
       "    <tr>\n",
       "      <th>1</th>\n",
       "      <td>World</td>\n",
       "      <td>5</td>\n",
       "    </tr>\n",
       "    <tr>\n",
       "      <th>2</th>\n",
       "      <td>Python</td>\n",
       "      <td>6</td>\n",
       "    </tr>\n",
       "    <tr>\n",
       "      <th>3</th>\n",
       "      <td>Data Science</td>\n",
       "      <td>12</td>\n",
       "    </tr>\n",
       "  </tbody>\n",
       "</table>\n",
       "</div>"
      ],
      "text/plain": [
       "         Column  Length\n",
       "0         Hello       5\n",
       "1         World       5\n",
       "2        Python       6\n",
       "3  Data Science      12"
      ]
     },
     "execution_count": 2,
     "metadata": {},
     "output_type": "execute_result"
    }
   ],
   "source": [
    "df"
   ]
  },
  {
   "cell_type": "code",
   "execution_count": 6,
   "id": "5e93d4fc-7030-44a5-9f51-738bceac1c4c",
   "metadata": {
    "tags": []
   },
   "outputs": [],
   "source": [
    "df['new_col'] = [1,2,3,4]"
   ]
  },
  {
   "cell_type": "code",
   "execution_count": 7,
   "id": "d92843a2-7d13-4a3c-9bd2-4a3db0b1cc3a",
   "metadata": {
    "tags": []
   },
   "outputs": [
    {
     "data": {
      "text/html": [
       "<div>\n",
       "<style scoped>\n",
       "    .dataframe tbody tr th:only-of-type {\n",
       "        vertical-align: middle;\n",
       "    }\n",
       "\n",
       "    .dataframe tbody tr th {\n",
       "        vertical-align: top;\n",
       "    }\n",
       "\n",
       "    .dataframe thead th {\n",
       "        text-align: right;\n",
       "    }\n",
       "</style>\n",
       "<table border=\"1\" class=\"dataframe\">\n",
       "  <thead>\n",
       "    <tr style=\"text-align: right;\">\n",
       "      <th></th>\n",
       "      <th>Column</th>\n",
       "      <th>Lowercase</th>\n",
       "      <th>new_col</th>\n",
       "    </tr>\n",
       "  </thead>\n",
       "  <tbody>\n",
       "    <tr>\n",
       "      <th>0</th>\n",
       "      <td>Hello</td>\n",
       "      <td>hello</td>\n",
       "      <td>1</td>\n",
       "    </tr>\n",
       "    <tr>\n",
       "      <th>1</th>\n",
       "      <td>World</td>\n",
       "      <td>world</td>\n",
       "      <td>2</td>\n",
       "    </tr>\n",
       "    <tr>\n",
       "      <th>2</th>\n",
       "      <td>Python</td>\n",
       "      <td>python</td>\n",
       "      <td>3</td>\n",
       "    </tr>\n",
       "    <tr>\n",
       "      <th>3</th>\n",
       "      <td>Data Science</td>\n",
       "      <td>data science</td>\n",
       "      <td>4</td>\n",
       "    </tr>\n",
       "  </tbody>\n",
       "</table>\n",
       "</div>"
      ],
      "text/plain": [
       "         Column     Lowercase  new_col\n",
       "0         Hello         hello        1\n",
       "1         World         world        2\n",
       "2        Python        python        3\n",
       "3  Data Science  data science        4"
      ]
     },
     "execution_count": 7,
     "metadata": {},
     "output_type": "execute_result"
    }
   ],
   "source": [
    "df"
   ]
  },
  {
   "cell_type": "code",
   "execution_count": 8,
   "id": "a266286c-5cc0-4541-929e-daf87ed05600",
   "metadata": {
    "tags": []
   },
   "outputs": [
    {
     "data": {
      "text/html": [
       "<div>\n",
       "<style scoped>\n",
       "    .dataframe tbody tr th:only-of-type {\n",
       "        vertical-align: middle;\n",
       "    }\n",
       "\n",
       "    .dataframe tbody tr th {\n",
       "        vertical-align: top;\n",
       "    }\n",
       "\n",
       "    .dataframe thead th {\n",
       "        text-align: right;\n",
       "    }\n",
       "</style>\n",
       "<table border=\"1\" class=\"dataframe\">\n",
       "  <thead>\n",
       "    <tr style=\"text-align: right;\">\n",
       "      <th></th>\n",
       "      <th>Column</th>\n",
       "      <th>Lowercase</th>\n",
       "      <th>new_col</th>\n",
       "    </tr>\n",
       "  </thead>\n",
       "  <tbody>\n",
       "    <tr>\n",
       "      <th>0</th>\n",
       "      <td>Hello</td>\n",
       "      <td>hello</td>\n",
       "      <td>1</td>\n",
       "    </tr>\n",
       "    <tr>\n",
       "      <th>1</th>\n",
       "      <td>World</td>\n",
       "      <td>world</td>\n",
       "      <td>2</td>\n",
       "    </tr>\n",
       "    <tr>\n",
       "      <th>2</th>\n",
       "      <td>Python</td>\n",
       "      <td>python</td>\n",
       "      <td>3</td>\n",
       "    </tr>\n",
       "    <tr>\n",
       "      <th>3</th>\n",
       "      <td>Data Science</td>\n",
       "      <td>data science</td>\n",
       "      <td>4</td>\n",
       "    </tr>\n",
       "  </tbody>\n",
       "</table>\n",
       "</div>"
      ],
      "text/plain": [
       "         Column     Lowercase  new_col\n",
       "0         Hello         hello        1\n",
       "1         World         world        2\n",
       "2        Python        python        3\n",
       "3  Data Science  data science        4"
      ]
     },
     "execution_count": 8,
     "metadata": {},
     "output_type": "execute_result"
    }
   ],
   "source": [
    "df[\"Lowercase\"] = df['Column'].str.lower()\n",
    "df"
   ]
  },
  {
   "cell_type": "code",
   "execution_count": 3,
   "id": "fa533b07-9bee-4b69-8f7f-6c3aca64e76a",
   "metadata": {},
   "outputs": [
    {
     "name": "stdout",
     "output_type": "stream",
     "text": [
      "\n",
      "Text in lowercase:\n",
      "         Column     Lowercase\n",
      "0         Hello         hello\n",
      "1         World         world\n",
      "2        Python        python\n",
      "3  Data Science  data science\n"
     ]
    }
   ],
   "source": [
    "# Assuming 'df' is DataFrame with a 'Column' containing text data\n",
    "df = pd.DataFrame({'Column': ['Hello', 'World', 'Python', 'Data Science']})\n",
    "\n",
    "# Converts text to lowercase\n",
    "df['Lowercase'] = df['Column'].str.lower()\n",
    "print(\"\\nText in lowercase:\")\n",
    "print(df[['Column', 'Lowercase']])\n"
   ]
  },
  {
   "cell_type": "code",
   "execution_count": 9,
   "id": "f10c2702-e1b0-4103-913c-ec9c2340c972",
   "metadata": {
    "tags": []
   },
   "outputs": [
    {
     "data": {
      "text/html": [
       "<div>\n",
       "<style scoped>\n",
       "    .dataframe tbody tr th:only-of-type {\n",
       "        vertical-align: middle;\n",
       "    }\n",
       "\n",
       "    .dataframe tbody tr th {\n",
       "        vertical-align: top;\n",
       "    }\n",
       "\n",
       "    .dataframe thead th {\n",
       "        text-align: right;\n",
       "    }\n",
       "</style>\n",
       "<table border=\"1\" class=\"dataframe\">\n",
       "  <thead>\n",
       "    <tr style=\"text-align: right;\">\n",
       "      <th></th>\n",
       "      <th>Column</th>\n",
       "      <th>Lowercase</th>\n",
       "      <th>new_col</th>\n",
       "    </tr>\n",
       "  </thead>\n",
       "  <tbody>\n",
       "    <tr>\n",
       "      <th>0</th>\n",
       "      <td>Hello</td>\n",
       "      <td>hello</td>\n",
       "      <td>1</td>\n",
       "    </tr>\n",
       "    <tr>\n",
       "      <th>1</th>\n",
       "      <td>World</td>\n",
       "      <td>world</td>\n",
       "      <td>2</td>\n",
       "    </tr>\n",
       "    <tr>\n",
       "      <th>2</th>\n",
       "      <td>Python</td>\n",
       "      <td>python</td>\n",
       "      <td>3</td>\n",
       "    </tr>\n",
       "    <tr>\n",
       "      <th>3</th>\n",
       "      <td>Data Science</td>\n",
       "      <td>data science</td>\n",
       "      <td>4</td>\n",
       "    </tr>\n",
       "  </tbody>\n",
       "</table>\n",
       "</div>"
      ],
      "text/plain": [
       "         Column     Lowercase  new_col\n",
       "0         Hello         hello        1\n",
       "1         World         world        2\n",
       "2        Python        python        3\n",
       "3  Data Science  data science        4"
      ]
     },
     "execution_count": 9,
     "metadata": {},
     "output_type": "execute_result"
    }
   ],
   "source": [
    "df"
   ]
  },
  {
   "cell_type": "code",
   "execution_count": 10,
   "id": "2a4b3f90-3e13-42d1-8898-8d63c01563d1",
   "metadata": {
    "tags": []
   },
   "outputs": [
    {
     "data": {
      "text/plain": [
       "0    False\n",
       "1    False\n",
       "2     True\n",
       "3    False\n",
       "Name: Lowercase, dtype: bool"
      ]
     },
     "execution_count": 10,
     "metadata": {},
     "output_type": "execute_result"
    }
   ],
   "source": [
    "df[\"Lowercase\"].str.contains(\"python\")"
   ]
  },
  {
   "cell_type": "code",
   "execution_count": 11,
   "id": "b4b316ca-b9cb-49b4-b12b-8b2a4bda79f1",
   "metadata": {
    "tags": []
   },
   "outputs": [
    {
     "data": {
      "text/html": [
       "<div>\n",
       "<style scoped>\n",
       "    .dataframe tbody tr th:only-of-type {\n",
       "        vertical-align: middle;\n",
       "    }\n",
       "\n",
       "    .dataframe tbody tr th {\n",
       "        vertical-align: top;\n",
       "    }\n",
       "\n",
       "    .dataframe thead th {\n",
       "        text-align: right;\n",
       "    }\n",
       "</style>\n",
       "<table border=\"1\" class=\"dataframe\">\n",
       "  <thead>\n",
       "    <tr style=\"text-align: right;\">\n",
       "      <th></th>\n",
       "      <th>Column</th>\n",
       "      <th>Lowercase</th>\n",
       "      <th>new_col</th>\n",
       "      <th>result</th>\n",
       "    </tr>\n",
       "  </thead>\n",
       "  <tbody>\n",
       "    <tr>\n",
       "      <th>0</th>\n",
       "      <td>Hello</td>\n",
       "      <td>hello</td>\n",
       "      <td>1</td>\n",
       "      <td>False</td>\n",
       "    </tr>\n",
       "    <tr>\n",
       "      <th>1</th>\n",
       "      <td>World</td>\n",
       "      <td>world</td>\n",
       "      <td>2</td>\n",
       "      <td>False</td>\n",
       "    </tr>\n",
       "    <tr>\n",
       "      <th>2</th>\n",
       "      <td>Python</td>\n",
       "      <td>python</td>\n",
       "      <td>3</td>\n",
       "      <td>True</td>\n",
       "    </tr>\n",
       "    <tr>\n",
       "      <th>3</th>\n",
       "      <td>Data Science</td>\n",
       "      <td>data science</td>\n",
       "      <td>4</td>\n",
       "      <td>False</td>\n",
       "    </tr>\n",
       "  </tbody>\n",
       "</table>\n",
       "</div>"
      ],
      "text/plain": [
       "         Column     Lowercase  new_col  result\n",
       "0         Hello         hello        1   False\n",
       "1         World         world        2   False\n",
       "2        Python        python        3    True\n",
       "3  Data Science  data science        4   False"
      ]
     },
     "execution_count": 11,
     "metadata": {},
     "output_type": "execute_result"
    }
   ],
   "source": [
    "df['result'] = df[\"Lowercase\"].str.contains(\"python\")\n",
    "df"
   ]
  },
  {
   "cell_type": "code",
   "execution_count": null,
   "id": "85a64573-3a36-42ac-8e01-3752fed9969c",
   "metadata": {},
   "outputs": [],
   "source": [
    "# Assuming 'df' is DataFrame with a 'Column' containing text data\n",
    "df = pd.DataFrame({'Column': ['Hello', 'World', 'Python', 'Data Science']})\n",
    "\n",
    "# Checks if each string contains the specified substring\n",
    "substring = 'Data'\n",
    "df['ContainsSubstring'] = df['Column'].str.contains(substring)\n",
    "print(\"\\nContains substring 'Data':\")\n",
    "print(df[['Column', 'ContainsSubstring']])\n"
   ]
  },
  {
   "cell_type": "markdown",
   "id": "ebaa3489-b22c-4c3e-a3fd-6f2492de0a7c",
   "metadata": {},
   "source": [
    "## __2. Iteration__"
   ]
  },
  {
   "cell_type": "markdown",
   "id": "8b68905e-257e-4197-a592-c2656790385b",
   "metadata": {},
   "source": [
    "Iteration in Pandas typically involves traversing through the rows or elements of a DataFrame or Series. \n",
    "- However, it is important to note that direct iteration over DataFrame rows using Python's for loop is generally discouraged due to performance reasons. \n",
    "- Instead, Pandas provides efficient methods for iteration and applying functions to DataFrame elements."
   ]
  },
  {
   "attachments": {
    "6a6a1846-b952-488f-aaa4-f52af904864c.png": {
     "image/png": "[encoded data removed]"
    }
   },
   "cell_type": "markdown",
   "id": "9061737a-8b27-4b74-b39a-0c2cf6e28e51",
   "metadata": {},
   "source": [
    "![image.png](attachment:6a6a1846-b952-488f-aaa4-f52af904864c.png)"
   ]
  },
  {
   "cell_type": "markdown",
   "id": "b174ebf6-d371-4743-ad51-1c8fe8a64f24",
   "metadata": {},
   "source": [
    "### __2.1 Iterating over Rows__"
   ]
  },
  {
   "cell_type": "code",
   "execution_count": 12,
   "id": "5c8e5a78-0f02-435b-9e22-0fa3bc092a02",
   "metadata": {},
   "outputs": [
    {
     "name": "stdout",
     "output_type": "stream",
     "text": [
      "Index: 0, Data: 1, A\n",
      "Index: 1, Data: 2, B\n",
      "Index: 2, Data: 3, C\n"
     ]
    }
   ],
   "source": [
    "import pandas as pd\n",
    "\n",
    "# Assuming 'df' is your DataFrame with columns 'Column1' and 'Column2'\n",
    "df = pd.DataFrame({'Column1': [1, 2, 3], 'Column2': ['A', 'B', 'C']})\n",
    "\n",
    "for index, row in df.iterrows():\n",
    "    print(f\"Index: {index}, Data: {row['Column1']}, {row['Column2']}\")\n"
   ]
  },
  {
   "cell_type": "code",
   "execution_count": 13,
   "id": "0027b646-79e1-4511-99c5-9148b064d44b",
   "metadata": {
    "tags": []
   },
   "outputs": [
    {
     "data": {
      "text/html": [
       "<div>\n",
       "<style scoped>\n",
       "    .dataframe tbody tr th:only-of-type {\n",
       "        vertical-align: middle;\n",
       "    }\n",
       "\n",
       "    .dataframe tbody tr th {\n",
       "        vertical-align: top;\n",
       "    }\n",
       "\n",
       "    .dataframe thead th {\n",
       "        text-align: right;\n",
       "    }\n",
       "</style>\n",
       "<table border=\"1\" class=\"dataframe\">\n",
       "  <thead>\n",
       "    <tr style=\"text-align: right;\">\n",
       "      <th></th>\n",
       "      <th>Column1</th>\n",
       "      <th>Column2</th>\n",
       "    </tr>\n",
       "  </thead>\n",
       "  <tbody>\n",
       "    <tr>\n",
       "      <th>0</th>\n",
       "      <td>1</td>\n",
       "      <td>A</td>\n",
       "    </tr>\n",
       "    <tr>\n",
       "      <th>1</th>\n",
       "      <td>2</td>\n",
       "      <td>B</td>\n",
       "    </tr>\n",
       "    <tr>\n",
       "      <th>2</th>\n",
       "      <td>3</td>\n",
       "      <td>C</td>\n",
       "    </tr>\n",
       "  </tbody>\n",
       "</table>\n",
       "</div>"
      ],
      "text/plain": [
       "   Column1 Column2\n",
       "0        1       A\n",
       "1        2       B\n",
       "2        3       C"
      ]
     },
     "execution_count": 13,
     "metadata": {},
     "output_type": "execute_result"
    }
   ],
   "source": [
    "df"
   ]
  },
  {
   "cell_type": "code",
   "execution_count": 16,
   "id": "a10c7823-0857-4e87-9387-312adc7a2c85",
   "metadata": {
    "tags": []
   },
   "outputs": [
    {
     "name": "stdout",
     "output_type": "stream",
     "text": [
      "(0, Column1    1\n",
      "Column2    A\n",
      "Name: 0, dtype: object)\n",
      "<class 'tuple'>\n",
      "(1, Column1    2\n",
      "Column2    B\n",
      "Name: 1, dtype: object)\n",
      "<class 'tuple'>\n",
      "(2, Column1    3\n",
      "Column2    C\n",
      "Name: 2, dtype: object)\n",
      "<class 'tuple'>\n"
     ]
    }
   ],
   "source": [
    "for i in df.iterrows():\n",
    "    print(i), print(type(i))"
   ]
  },
  {
   "cell_type": "code",
   "execution_count": 17,
   "id": "b0c36395-9fb3-452f-aaf0-717236cf8aa2",
   "metadata": {
    "tags": []
   },
   "outputs": [
    {
     "name": "stdout",
     "output_type": "stream",
     "text": [
      "0\n",
      "<class 'int'>\n",
      "Column1    1\n",
      "Column2    A\n",
      "Name: 0, dtype: object\n",
      "<class 'pandas.core.series.Series'>\n",
      "1\n",
      "<class 'int'>\n",
      "Column1    2\n",
      "Column2    B\n",
      "Name: 1, dtype: object\n",
      "<class 'pandas.core.series.Series'>\n",
      "2\n",
      "<class 'int'>\n",
      "Column1    3\n",
      "Column2    C\n",
      "Name: 2, dtype: object\n",
      "<class 'pandas.core.series.Series'>\n"
     ]
    }
   ],
   "source": [
    "for i,j in df.iterrows():\n",
    "    print(i), print(type(i))\n",
    "    print(j),print(type(j))"
   ]
  },
  {
   "cell_type": "markdown",
   "id": "f8c904cc-995a-4af9-87f7-19a8e82ebdef",
   "metadata": {},
   "source": [
    "### __2.2 Applying a Function to Each Element__"
   ]
  },
  {
   "cell_type": "code",
   "execution_count": 18,
   "id": "504ffb27-4ea4-49f6-b205-852e13923be5",
   "metadata": {
    "tags": []
   },
   "outputs": [
    {
     "data": {
      "text/html": [
       "<div>\n",
       "<style scoped>\n",
       "    .dataframe tbody tr th:only-of-type {\n",
       "        vertical-align: middle;\n",
       "    }\n",
       "\n",
       "    .dataframe tbody tr th {\n",
       "        vertical-align: top;\n",
       "    }\n",
       "\n",
       "    .dataframe thead th {\n",
       "        text-align: right;\n",
       "    }\n",
       "</style>\n",
       "<table border=\"1\" class=\"dataframe\">\n",
       "  <thead>\n",
       "    <tr style=\"text-align: right;\">\n",
       "      <th></th>\n",
       "      <th>Column1</th>\n",
       "      <th>Column2</th>\n",
       "    </tr>\n",
       "  </thead>\n",
       "  <tbody>\n",
       "    <tr>\n",
       "      <th>0</th>\n",
       "      <td>1</td>\n",
       "      <td>A</td>\n",
       "    </tr>\n",
       "    <tr>\n",
       "      <th>1</th>\n",
       "      <td>2</td>\n",
       "      <td>B</td>\n",
       "    </tr>\n",
       "    <tr>\n",
       "      <th>2</th>\n",
       "      <td>3</td>\n",
       "      <td>C</td>\n",
       "    </tr>\n",
       "  </tbody>\n",
       "</table>\n",
       "</div>"
      ],
      "text/plain": [
       "   Column1 Column2\n",
       "0        1       A\n",
       "1        2       B\n",
       "2        3       C"
      ]
     },
     "execution_count": 18,
     "metadata": {},
     "output_type": "execute_result"
    }
   ],
   "source": [
    "df"
   ]
  },
  {
   "cell_type": "code",
   "execution_count": 19,
   "id": "3d77bfdb-fb3c-4bed-9ab4-f1611ba72e1c",
   "metadata": {
    "tags": []
   },
   "outputs": [
    {
     "data": {
      "text/plain": [
       "[1, 4, 9, 16, 25]"
      ]
     },
     "execution_count": 19,
     "metadata": {},
     "output_type": "execute_result"
    }
   ],
   "source": [
    "list(map(lambda x : x**2 , [1,2,3,4,5]))"
   ]
  },
  {
   "cell_type": "code",
   "execution_count": 22,
   "id": "b8a75542-8fff-43ab-8c76-a888b11fb86b",
   "metadata": {
    "tags": []
   },
   "outputs": [
    {
     "data": {
      "text/plain": [
       "0    1\n",
       "1    4\n",
       "2    9\n",
       "Name: Column1, dtype: int64"
      ]
     },
     "execution_count": 22,
     "metadata": {},
     "output_type": "execute_result"
    }
   ],
   "source": [
    "df['Column1'].apply(lambda x : x**2)"
   ]
  },
  {
   "cell_type": "code",
   "execution_count": 23,
   "id": "660ead07-4caf-4039-bb8e-346cec70c4a9",
   "metadata": {},
   "outputs": [
    {
     "name": "stdout",
     "output_type": "stream",
     "text": [
      "   ExistingColumn  NewColumn\n",
      "0              10         20\n",
      "1              20         40\n",
      "2              30         60\n"
     ]
    }
   ],
   "source": [
    "# Assuming 'df' is your DataFrame with 'ExistingColumn'\n",
    "df = pd.DataFrame({'ExistingColumn': [10, 20, 30]})\n",
    "\n",
    "df['NewColumn'] = df['ExistingColumn'].apply(lambda x: x * 2)\n",
    "print(df)\n"
   ]
  },
  {
   "cell_type": "markdown",
   "id": "ed42ddaa-4bba-46c5-9b8a-a7d0b910c04b",
   "metadata": {},
   "source": [
    "### __2.3 Vectorized Operations__"
   ]
  },
  {
   "cell_type": "code",
   "execution_count": 24,
   "id": "bd599fb0-c25b-4bb8-a7b3-91df35a1daaa",
   "metadata": {},
   "outputs": [
    {
     "name": "stdout",
     "output_type": "stream",
     "text": [
      "   ColumnA  ColumnB  ResultColumn\n",
      "0        1        4             5\n",
      "1        2        5             7\n",
      "2        3        6             9\n"
     ]
    }
   ],
   "source": [
    "# Assuming 'df' is your DataFrame with 'ColumnA' and 'ColumnB'\n",
    "df = pd.DataFrame({'ColumnA': [1, 2, 3], 'ColumnB': [4, 5, 6]})\n",
    "\n",
    "df['ResultColumn'] = df['ColumnA'] + df['ColumnB']\n",
    "print(df)"
   ]
  },
  {
   "cell_type": "markdown",
   "id": "ef8c2880-e8c7-4a6a-9782-d392ff898948",
   "metadata": {},
   "source": [
    "### __2.4 Iterating over Series__"
   ]
  },
  {
   "cell_type": "code",
   "execution_count": 26,
   "id": "800688f5-28ae-4d68-8ace-b1838128ad96",
   "metadata": {},
   "outputs": [
    {
     "name": "stdout",
     "output_type": "stream",
     "text": [
      "Index: 0, Value: 10\n",
      "Index: 1, Value: 20\n",
      "Index: 2, Value: 30\n"
     ]
    }
   ],
   "source": [
    "# Assuming 'series' is your Pandas Series\n",
    "series = pd.Series([10, 20, 30], name='Values')\n",
    "\n",
    "for index, value in series.items():\n",
    "    print(f\"Index: {index}, Value: {value}\")"
   ]
  },
  {
   "cell_type": "code",
   "execution_count": 27,
   "id": "3f779a24-6089-43c7-a220-052712302da4",
   "metadata": {
    "tags": []
   },
   "outputs": [
    {
     "data": {
      "text/plain": [
       "<zip at 0x289b5a8c0>"
      ]
     },
     "execution_count": 27,
     "metadata": {},
     "output_type": "execute_result"
    }
   ],
   "source": [
    "series.items()"
   ]
  },
  {
   "attachments": {
    "8e942634-2dc9-459e-b9f9-726ca9073afa.png": {
     "image/png": "[encoded data removed]"
    }
   },
   "cell_type": "markdown",
   "id": "ce5bf870-426f-4c15-8b3a-0028902b75f6",
   "metadata": {},
   "source": [
    "## __3. Sorting__\n",
    "Sorting in Pandas involves arranging the elements of a DataFrame or Series based on specific criteria, such as column values or indices. \n",
    "\n",
    "![image.png](attachment:8e942634-2dc9-459e-b9f9-726ca9073afa.png)"
   ]
  },
  {
   "cell_type": "markdown",
   "id": "046a75b3-63cc-4b57-8d7b-9dcff2ae2e7c",
   "metadata": {},
   "source": [
    "### __3.1 Sorting DataFrame by Column__"
   ]
  },
  {
   "cell_type": "code",
   "execution_count": 28,
   "id": "79191d3c-3b9e-4484-a43d-126711b5cf10",
   "metadata": {},
   "outputs": [
    {
     "name": "stdout",
     "output_type": "stream",
     "text": [
      "Sorted DataFrame by Age:\n",
      "       Name  Age  Salary\n",
      "1      Bob   22   60000\n",
      "0    Alice   25   50000\n",
      "2  Charlie   30   75000\n"
     ]
    }
   ],
   "source": [
    "# Create a sample DataFrame\n",
    "df = pd.DataFrame({'Name': ['Alice', 'Bob', 'Charlie'],\n",
    "                   'Age': [25, 22, 30],\n",
    "                   'Salary': [50000, 60000, 75000]})\n",
    "\n",
    "# Sort DataFrame by the 'Age' column in ascending order\n",
    "df_sorted = df.sort_values(by='Age')\n",
    "print(\"Sorted DataFrame by Age:\\n\", df_sorted)"
   ]
  },
  {
   "cell_type": "markdown",
   "id": "5da5639d-46b3-40bf-9760-3bb5e1074a41",
   "metadata": {},
   "source": [
    "### __3.2 Sorting DataFrame by Multiple Columns__"
   ]
  },
  {
   "cell_type": "code",
   "execution_count": 29,
   "id": "7a3c5260-a9c9-460a-b7e0-6087f5ec0ab0",
   "metadata": {},
   "outputs": [
    {
     "name": "stdout",
     "output_type": "stream",
     "text": [
      "\n",
      "Sorted DataFrame by Age and Salary:\n",
      "       Name  Age  Salary\n",
      "1      Bob   22   60000\n",
      "0    Alice   25   50000\n",
      "2  Charlie   30   75000\n"
     ]
    }
   ],
   "source": [
    "# Sort DataFrame by 'Age' in ascending order, then by 'Salary' in descending order\n",
    "df_sorted_multi = df.sort_values(by=['Age', 'Salary'], ascending=[True, False])\n",
    "print(\"\\nSorted DataFrame by Age and Salary:\\n\", df_sorted_multi)\n"
   ]
  },
  {
   "cell_type": "markdown",
   "id": "e96939ca-6dad-458b-9472-4a3206c3854b",
   "metadata": {},
   "source": [
    "### __3.3 Sorting DataFrame by Index__"
   ]
  },
  {
   "cell_type": "code",
   "execution_count": 30,
   "id": "39e8a714-5942-4e54-91e2-0c79d00c140d",
   "metadata": {},
   "outputs": [
    {
     "name": "stdout",
     "output_type": "stream",
     "text": [
      "\n",
      "Sorted DataFrame by Index:\n",
      "       Name  Age  Salary\n",
      "2  Charlie   30   75000\n",
      "1      Bob   22   60000\n",
      "0    Alice   25   50000\n"
     ]
    }
   ],
   "source": [
    "# Sort DataFrame by index in descending order\n",
    "df_sorted_index = df.sort_index(ascending=False)\n",
    "print(\"\\nSorted DataFrame by Index:\\n\", df_sorted_index)\n"
   ]
  },
  {
   "cell_type": "markdown",
   "id": "fd3589ab-a3de-4b86-8323-b12a91e99291",
   "metadata": {},
   "source": [
    "### __3.4 Sorting a Series__"
   ]
  },
  {
   "cell_type": "code",
   "execution_count": 31,
   "id": "a602a207-7e45-4f73-8b12-80d9e5bf2754",
   "metadata": {},
   "outputs": [
    {
     "name": "stdout",
     "output_type": "stream",
     "text": [
      "\n",
      "Sorted Series by Age:\n",
      " Charlie    30\n",
      "Alice      25\n",
      "Bob        22\n",
      "Name: Age, dtype: int64\n"
     ]
    }
   ],
   "source": [
    "# Create a sample Series\n",
    "series = pd.Series([25, 22, 30], index=['Alice', 'Bob', 'Charlie'], name='Age')\n",
    "\n",
    "# Sort Series in descending order\n",
    "series_sorted = series.sort_values(ascending=False)\n",
    "print(\"\\nSorted Series by Age:\\n\", series_sorted)\n"
   ]
  },
  {
   "cell_type": "markdown",
   "id": "f8d5b2d7-6107-41c0-be03-de05e961c973",
   "metadata": {},
   "source": [
    "## __4. Plotting with Pandas__\n",
    "Plotting data is required to visualize the data in Python. Python uses the plot method in pandas to create plots; there are many types of plots available in pandas."
   ]
  },
  {
   "cell_type": "code",
   "execution_count": 32,
   "id": "7cf1cce8-340a-40ce-8b81-849181ea0a9d",
   "metadata": {},
   "outputs": [
    {
     "data": {
      "image/png": "[encoded data removed]",
      "text/plain": [
       "<Figure size 640x480 with 1 Axes>"
      ]
     },
     "metadata": {},
     "output_type": "display_data"
    }
   ],
   "source": [
    "import pandas as pd\n",
    "import matplotlib.pyplot as plt\n",
    "\n",
    "# Create a sample DataFrame\n",
    "data = {'A': [1, 2, 3, 4, 5], 'B': [5, 4, 3, 2, 1]}\n",
    "df = pd.DataFrame(data)\n",
    "\n",
    "# Plot a line chart\n",
    "df.plot()\n",
    "plt.show()"
   ]
  },
  {
   "cell_type": "code",
   "execution_count": 33,
   "id": "9d80dcca-2a6b-4b91-84b0-618a6b3aecec",
   "metadata": {},
   "outputs": [
    {
     "data": {
      "image/png": "[encoded data removed]",
      "text/plain": [
       "<Figure size 640x480 with 1 Axes>"
      ]
     },
     "metadata": {},
     "output_type": "display_data"
    }
   ],
   "source": [
    "# Plot a bar chart\n",
    "df.plot(kind='bar')\n",
    "plt.show()\n"
   ]
  },
  {
   "cell_type": "markdown",
   "id": "414bc8c6-7f95-4d39-8cff-929e89d8503c",
   "metadata": {},
   "source": [
    "# __Assisted Practice__"
   ]
  },
  {
   "cell_type": "markdown",
   "id": "27541f6e-5d9e-4ae6-9c76-800a777b72b6",
   "metadata": {},
   "source": [
    "## __Problem Statement:__\n",
    "Create a detailed report on the monthly weather data by performing text manipulation, data sorting, and visualization to analyze temperature and precipitation trends.\n",
    "\n",
    "__Data:__\n",
    "The dataset contains daily observations of temperature and precipitation over a month.\n",
    "\n",
    "## __Steps to Perform:__\n",
    "\n",
    "1. Textual manipulation\n",
    "- Convert 'Day' to a string format with appropriate suffixes (1st, 2nd, 3rd, and so on)\n",
    "- Classify 'Temperature' into categories (Low, Medium, High) based on predefined thresholds\n",
    "- Determine if 'Precipitation' falls under 'Light', 'Moderate', or 'Heavy' rainfall\n",
    "\n",
    "2. Iteration and data aggregation\n",
    "- Iterate over the DataFrame to calculate weekly averages of temperature and precipitation\n",
    "- Summarize findings in a new DataFrame\n",
    "\n",
    "3. Sorting\n",
    "- Sort the DataFrame by 'Temperature' and 'Precipitation' in ascending and descending order\n",
    "- Sort the DataFrame by the day of the month\n",
    "\n",
    "4. Plotting\n",
    "- Create a line plot for temperature trends\n",
    "- Create a bar plot to compare precipitation levels across the month"
   ]
  },
  {
   "cell_type": "code",
   "execution_count": 34,
   "id": "dfe25787-a180-4f3d-b73c-0a3355f7b3cd",
   "metadata": {
    "tags": []
   },
   "outputs": [],
   "source": [
    "def add_suffix(day):\n",
    "    if 10 <= day % 100 <=20:\n",
    "        suffix = 'th'\n",
    "    else:\n",
    "        suffix = {1: 'st', 2: 'nd', 3:'rd'}\n",
    "    return str(day) + suffix"
   ]
  },
  {
   "cell_type": "code",
   "execution_count": null,
   "id": "01585034-7dbd-4392-9764-41591aa009c7",
   "metadata": {},
   "outputs": [],
   "source": [
    "df['day'].apply(add_suffix)"
   ]
  },
  {
   "cell_type": "code",
   "execution_count": null,
   "id": "1bf949f8-d5bf-4536-9f05-79b2f3f7a1e2",
   "metadata": {},
   "outputs": [],
   "source": [
    "def categories(temp):\n",
    "   pass # condition"
   ]
  }
 ],
 "metadata": {
  "kernelspec": {
   "display_name": "Python 3 (ipykernel)",
   "language": "python",
   "name": "python3"
  },
  "language_info": {
   "codemirror_mode": {
    "name": "ipython",
    "version": 3
   },
   "file_extension": ".py",
   "mimetype": "text/x-python",
   "name": "python",
   "nbconvert_exporter": "python",
   "pygments_lexer": "ipython3",
   "version": "3.11.3"
  }
 },
 "nbformat": 4,
 "nbformat_minor": 5
}
