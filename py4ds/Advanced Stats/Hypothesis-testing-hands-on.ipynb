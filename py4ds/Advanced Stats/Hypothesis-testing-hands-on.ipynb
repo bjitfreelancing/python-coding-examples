{
 "cells": [
  {
   "cell_type": "markdown",
   "id": "909ecbf6-847c-4c24-8b2d-dbc4add09a49",
   "metadata": {},
   "source": [
    "# Z - Test"
   ]
  },
  {
   "cell_type": "code",
   "execution_count": 1,
   "id": "e314c3fe-45c2-4d54-95d9-b532e2c09c26",
   "metadata": {
    "tags": []
   },
   "outputs": [
    {
     "data": {
      "text/html": [
       "<div>\n",
       "<style scoped>\n",
       "    .dataframe tbody tr th:only-of-type {\n",
       "        vertical-align: middle;\n",
       "    }\n",
       "\n",
       "    .dataframe tbody tr th {\n",
       "        vertical-align: top;\n",
       "    }\n",
       "\n",
       "    .dataframe thead th {\n",
       "        text-align: right;\n",
       "    }\n",
       "</style>\n",
       "<table border=\"1\" class=\"dataframe\">\n",
       "  <thead>\n",
       "    <tr style=\"text-align: right;\">\n",
       "      <th></th>\n",
       "      <th>processing_time</th>\n",
       "    </tr>\n",
       "  </thead>\n",
       "  <tbody>\n",
       "    <tr>\n",
       "      <th>0</th>\n",
       "      <td>16.0</td>\n",
       "    </tr>\n",
       "    <tr>\n",
       "      <th>1</th>\n",
       "      <td>16.0</td>\n",
       "    </tr>\n",
       "    <tr>\n",
       "      <th>2</th>\n",
       "      <td>30.0</td>\n",
       "    </tr>\n",
       "    <tr>\n",
       "      <th>3</th>\n",
       "      <td>37.0</td>\n",
       "    </tr>\n",
       "    <tr>\n",
       "      <th>4</th>\n",
       "      <td>25.0</td>\n",
       "    </tr>\n",
       "  </tbody>\n",
       "</table>\n",
       "</div>"
      ],
      "text/plain": [
       "   processing_time\n",
       "0             16.0\n",
       "1             16.0\n",
       "2             30.0\n",
       "3             37.0\n",
       "4             25.0"
      ]
     },
     "execution_count": 1,
     "metadata": {},
     "output_type": "execute_result"
    }
   ],
   "source": [
    "import pandas as pd\n",
    "df = pd.read_csv(\"passport.csv\")\n",
    "df.head()"
   ]
  },
  {
   "cell_type": "code",
   "execution_count": 2,
   "id": "371cb280-8520-4507-88c1-e1ec7aef9071",
   "metadata": {
    "tags": []
   },
   "outputs": [
    {
     "data": {
      "text/plain": [
       "(40, 1)"
      ]
     },
     "execution_count": 2,
     "metadata": {},
     "output_type": "execute_result"
    }
   ],
   "source": [
    "df.shape"
   ]
  },
  {
   "cell_type": "code",
   "execution_count": 3,
   "id": "cbbe4371-9027-4f9e-b361-d1d66551e174",
   "metadata": {
    "tags": []
   },
   "outputs": [],
   "source": [
    "n = 40"
   ]
  },
  {
   "cell_type": "code",
   "execution_count": 4,
   "id": "5807a6a7-08d5-4ce2-84b0-8ad70afd0f94",
   "metadata": {
    "tags": []
   },
   "outputs": [],
   "source": [
    "# Null Hypothesis : Passport office processes application greater than 30 days \n",
    "# Alternate Hypothesis: Passport office process application within 30 days"
   ]
  },
  {
   "cell_type": "code",
   "execution_count": 6,
   "id": "f9ba29c0-9108-4433-8ee9-68c11550b72b",
   "metadata": {
    "tags": []
   },
   "outputs": [],
   "source": [
    "import math\n",
    "from scipy import stats\n",
    "\n",
    "def z_test(pop_mean, pop_std, sample):\n",
    "    z_score = (sample.mean() - pop_mean)/(pop_std/math.sqrt(len(sample)))\n",
    "    return z_score, stats.norm.cdf(z_score)"
   ]
  },
  {
   "cell_type": "code",
   "execution_count": 9,
   "id": "3ab85bf6-4170-4eca-a73c-18ab9c47af09",
   "metadata": {
    "tags": []
   },
   "outputs": [],
   "source": [
    "z_staistic,p = z_test(30,12.5,df['processing_time'])"
   ]
  },
  {
   "cell_type": "code",
   "execution_count": 10,
   "id": "7f457868-d2d8-4c2b-96dd-010966df34a5",
   "metadata": {
    "tags": []
   },
   "outputs": [
    {
     "data": {
      "text/plain": [
       "0.06777160919961511"
      ]
     },
     "execution_count": 10,
     "metadata": {},
     "output_type": "execute_result"
    }
   ],
   "source": [
    "p"
   ]
  },
  {
   "cell_type": "code",
   "execution_count": null,
   "id": "91749cf3-cfae-48e6-a103-eaa162bda123",
   "metadata": {},
   "outputs": [],
   "source": [
    "# p --> is the probability of observing our data if null hypothesis is true"
   ]
  },
  {
   "cell_type": "code",
   "execution_count": 11,
   "id": "5ba6a4ef-110f-46f8-820e-5c4258f781a4",
   "metadata": {
    "tags": []
   },
   "outputs": [
    {
     "name": "stdout",
     "output_type": "stream",
     "text": [
      "Null Hypothesis is retained\n"
     ]
    }
   ],
   "source": [
    "if p>0.05: # (0.05 is significance)\n",
    "    print(\"Null Hypothesis is retained\")\n",
    "else:\n",
    "    print(\"Null Hypothesis is rejected\")"
   ]
  },
  {
   "cell_type": "code",
   "execution_count": 21,
   "id": "e6e6ecab-022b-4bae-bf25-a335abe99fdf",
   "metadata": {
    "tags": []
   },
   "outputs": [],
   "source": [
    "from math import sqrt\n",
    "\n",
    "confidence_level = 0.95\n",
    "sample_mean = df['processing_time'].mean()\n",
    "sample_std = df['processing_time'].std()\n",
    "\n",
    "from scipy.stats import norm\n",
    "\n",
    "z_value = norm.ppf((1+confidence_level)/2)\n",
    "\n",
    "margin_of_error = z_value*(sample_std/sqrt(len(df['processing_time'])))"
   ]
  },
  {
   "cell_type": "code",
   "execution_count": 22,
   "id": "ea42dbd0-df9a-4ccf-b09f-622e58759d72",
   "metadata": {
    "tags": []
   },
   "outputs": [],
   "source": [
    "lb = sample_mean - margin_of_error\n",
    "ub = sample_mean + margin_of_error"
   ]
  },
  {
   "cell_type": "code",
   "execution_count": 23,
   "id": "765c9cf0-ae58-4797-ba11-0adea3cbd960",
   "metadata": {
    "tags": []
   },
   "outputs": [
    {
     "data": {
      "text/plain": [
       "25.114118139859904"
      ]
     },
     "execution_count": 23,
     "metadata": {},
     "output_type": "execute_result"
    }
   ],
   "source": [
    "lb"
   ]
  },
  {
   "cell_type": "code",
   "execution_count": 24,
   "id": "23bb1461-c418-4bed-b888-895dcba769c2",
   "metadata": {
    "tags": []
   },
   "outputs": [
    {
     "data": {
      "text/plain": [
       "28.985881860140097"
      ]
     },
     "execution_count": 24,
     "metadata": {},
     "output_type": "execute_result"
    }
   ],
   "source": [
    "ub"
   ]
  },
  {
   "cell_type": "markdown",
   "id": "087783ee-3b9e-46d8-b221-5ffa1af31833",
   "metadata": {},
   "source": [
    "# 1 Sample t-test "
   ]
  },
  {
   "cell_type": "code",
   "execution_count": 25,
   "id": "f341e871-97da-4c18-bdab-8169e1403044",
   "metadata": {
    "tags": []
   },
   "outputs": [
    {
     "data": {
      "text/html": [
       "<div>\n",
       "<style scoped>\n",
       "    .dataframe tbody tr th:only-of-type {\n",
       "        vertical-align: middle;\n",
       "    }\n",
       "\n",
       "    .dataframe tbody tr th {\n",
       "        vertical-align: top;\n",
       "    }\n",
       "\n",
       "    .dataframe thead th {\n",
       "        text-align: right;\n",
       "    }\n",
       "</style>\n",
       "<table border=\"1\" class=\"dataframe\">\n",
       "  <thead>\n",
       "    <tr style=\"text-align: right;\">\n",
       "      <th></th>\n",
       "      <th>production_cost</th>\n",
       "    </tr>\n",
       "  </thead>\n",
       "  <tbody>\n",
       "    <tr>\n",
       "      <th>0</th>\n",
       "      <td>601</td>\n",
       "    </tr>\n",
       "    <tr>\n",
       "      <th>1</th>\n",
       "      <td>627</td>\n",
       "    </tr>\n",
       "    <tr>\n",
       "      <th>2</th>\n",
       "      <td>330</td>\n",
       "    </tr>\n",
       "    <tr>\n",
       "      <th>3</th>\n",
       "      <td>364</td>\n",
       "    </tr>\n",
       "    <tr>\n",
       "      <th>4</th>\n",
       "      <td>562</td>\n",
       "    </tr>\n",
       "  </tbody>\n",
       "</table>\n",
       "</div>"
      ],
      "text/plain": [
       "   production_cost\n",
       "0              601\n",
       "1              627\n",
       "2              330\n",
       "3              364\n",
       "4              562"
      ]
     },
     "execution_count": 25,
     "metadata": {},
     "output_type": "execute_result"
    }
   ],
   "source": [
    "movies_df = pd.read_csv('bollywoodmovies.csv')\n",
    "movies_df.head()"
   ]
  },
  {
   "cell_type": "code",
   "execution_count": 26,
   "id": "1dc2ae11-fd57-4c33-a00a-ff57b8921745",
   "metadata": {
    "tags": []
   },
   "outputs": [
    {
     "data": {
      "text/plain": [
       "40"
      ]
     },
     "execution_count": 26,
     "metadata": {},
     "output_type": "execute_result"
    }
   ],
   "source": [
    "len(movies_df)"
   ]
  },
  {
   "cell_type": "code",
   "execution_count": 27,
   "id": "da7d2d83-71ff-4ceb-8cbe-eab3295c2671",
   "metadata": {
    "tags": []
   },
   "outputs": [],
   "source": [
    "# 50 crore = 500 million\n",
    "# null hypothesis - mean = 500\n",
    "# alternate hypothesis - mean NE 500\n",
    "pop_mean = 500\n",
    "from scipy import stats"
   ]
  },
  {
   "cell_type": "code",
   "execution_count": 28,
   "id": "b20f5716-72ea-44ac-93cf-ee4c7d69e80c",
   "metadata": {
    "tags": []
   },
   "outputs": [
    {
     "data": {
      "text/plain": [
       "TtestResult(statistic=-2.2845532872667547, pvalue=0.027862556406761777, df=39)"
      ]
     },
     "execution_count": 28,
     "metadata": {},
     "output_type": "execute_result"
    }
   ],
   "source": [
    "stats.ttest_1samp(movies_df['production_cost'],pop_mean)"
   ]
  },
  {
   "cell_type": "code",
   "execution_count": 29,
   "id": "8519446b-94c7-4000-89ba-32f7d45cbf8e",
   "metadata": {
    "tags": []
   },
   "outputs": [
    {
     "name": "stdout",
     "output_type": "stream",
     "text": [
      "Null Hypothesis is rejected\n"
     ]
    }
   ],
   "source": [
    "p = 0.027\n",
    "if p>0.05: # (0.05 is significance)\n",
    "    print(\"Null Hypothesis is retained\")\n",
    "else:\n",
    "    print(\"Null Hypothesis is rejected\")"
   ]
  },
  {
   "cell_type": "code",
   "execution_count": 31,
   "id": "5b892ba0-863a-46ce-a4eb-cb28524df3c1",
   "metadata": {
    "tags": []
   },
   "outputs": [
    {
     "data": {
      "text/plain": [
       "-2.2845532872667547"
      ]
     },
     "execution_count": 31,
     "metadata": {},
     "output_type": "execute_result"
    }
   ],
   "source": [
    "(movies_df['production_cost'].mean() - pop_mean)/(movies_df['production_cost'].std()/sqrt(len(movies_df['production_cost'])))"
   ]
  },
  {
   "cell_type": "code",
   "execution_count": 32,
   "id": "f65c6d71-be72-4ff5-bb4f-90039aacaddc",
   "metadata": {
    "tags": []
   },
   "outputs": [
    {
     "data": {
      "text/plain": [
       "429.55"
      ]
     },
     "execution_count": 32,
     "metadata": {},
     "output_type": "execute_result"
    }
   ],
   "source": [
    "movies_df['production_cost'].mean()"
   ]
  },
  {
   "cell_type": "markdown",
   "id": "854c956f-471d-423c-81e0-ea1664c3198e",
   "metadata": {
    "tags": []
   },
   "source": [
    "# 2 Sample t-test"
   ]
  },
  {
   "cell_type": "code",
   "execution_count": 34,
   "id": "359dd4dc-e845-41bb-9df7-0d1d7522cb91",
   "metadata": {
    "tags": []
   },
   "outputs": [],
   "source": [
    "healthdrink_yes_df = pd.read_excel(\"healthdrink.xlsx\",'healthdrink_yes')\n",
    "healthdrink_no_df = pd.read_excel(\"healthdrink.xlsx\",'healthdrink_no')"
   ]
  },
  {
   "cell_type": "code",
   "execution_count": 35,
   "id": "6bac4cb9-c9a4-45ee-ba74-03ffeba16924",
   "metadata": {
    "tags": []
   },
   "outputs": [
    {
     "data": {
      "text/html": [
       "<div>\n",
       "<style scoped>\n",
       "    .dataframe tbody tr th:only-of-type {\n",
       "        vertical-align: middle;\n",
       "    }\n",
       "\n",
       "    .dataframe tbody tr th {\n",
       "        vertical-align: top;\n",
       "    }\n",
       "\n",
       "    .dataframe thead th {\n",
       "        text-align: right;\n",
       "    }\n",
       "</style>\n",
       "<table border=\"1\" class=\"dataframe\">\n",
       "  <thead>\n",
       "    <tr style=\"text-align: right;\">\n",
       "      <th></th>\n",
       "      <th>height_increase</th>\n",
       "    </tr>\n",
       "  </thead>\n",
       "  <tbody>\n",
       "    <tr>\n",
       "      <th>0</th>\n",
       "      <td>8.6</td>\n",
       "    </tr>\n",
       "    <tr>\n",
       "      <th>1</th>\n",
       "      <td>5.8</td>\n",
       "    </tr>\n",
       "    <tr>\n",
       "      <th>2</th>\n",
       "      <td>10.2</td>\n",
       "    </tr>\n",
       "    <tr>\n",
       "      <th>3</th>\n",
       "      <td>8.5</td>\n",
       "    </tr>\n",
       "    <tr>\n",
       "      <th>4</th>\n",
       "      <td>6.8</td>\n",
       "    </tr>\n",
       "    <tr>\n",
       "      <th>...</th>\n",
       "      <td>...</td>\n",
       "    </tr>\n",
       "    <tr>\n",
       "      <th>74</th>\n",
       "      <td>6.5</td>\n",
       "    </tr>\n",
       "    <tr>\n",
       "      <th>75</th>\n",
       "      <td>8.1</td>\n",
       "    </tr>\n",
       "    <tr>\n",
       "      <th>76</th>\n",
       "      <td>7.2</td>\n",
       "    </tr>\n",
       "    <tr>\n",
       "      <th>77</th>\n",
       "      <td>8.8</td>\n",
       "    </tr>\n",
       "    <tr>\n",
       "      <th>78</th>\n",
       "      <td>9.8</td>\n",
       "    </tr>\n",
       "  </tbody>\n",
       "</table>\n",
       "<p>79 rows × 1 columns</p>\n",
       "</div>"
      ],
      "text/plain": [
       "    height_increase\n",
       "0               8.6\n",
       "1               5.8\n",
       "2              10.2\n",
       "3               8.5\n",
       "4               6.8\n",
       "..              ...\n",
       "74              6.5\n",
       "75              8.1\n",
       "76              7.2\n",
       "77              8.8\n",
       "78              9.8\n",
       "\n",
       "[79 rows x 1 columns]"
      ]
     },
     "execution_count": 35,
     "metadata": {},
     "output_type": "execute_result"
    }
   ],
   "source": [
    "healthdrink_yes_df"
   ]
  },
  {
   "cell_type": "code",
   "execution_count": 36,
   "id": "52ece9d2-14b8-48c9-9f01-7826a2082360",
   "metadata": {
    "tags": []
   },
   "outputs": [
    {
     "data": {
      "text/html": [
       "<div>\n",
       "<style scoped>\n",
       "    .dataframe tbody tr th:only-of-type {\n",
       "        vertical-align: middle;\n",
       "    }\n",
       "\n",
       "    .dataframe tbody tr th {\n",
       "        vertical-align: top;\n",
       "    }\n",
       "\n",
       "    .dataframe thead th {\n",
       "        text-align: right;\n",
       "    }\n",
       "</style>\n",
       "<table border=\"1\" class=\"dataframe\">\n",
       "  <thead>\n",
       "    <tr style=\"text-align: right;\">\n",
       "      <th></th>\n",
       "      <th>height_increase</th>\n",
       "    </tr>\n",
       "  </thead>\n",
       "  <tbody>\n",
       "    <tr>\n",
       "      <th>0</th>\n",
       "      <td>5.3</td>\n",
       "    </tr>\n",
       "    <tr>\n",
       "      <th>1</th>\n",
       "      <td>9.0</td>\n",
       "    </tr>\n",
       "    <tr>\n",
       "      <th>2</th>\n",
       "      <td>5.7</td>\n",
       "    </tr>\n",
       "    <tr>\n",
       "      <th>3</th>\n",
       "      <td>5.5</td>\n",
       "    </tr>\n",
       "    <tr>\n",
       "      <th>4</th>\n",
       "      <td>5.4</td>\n",
       "    </tr>\n",
       "    <tr>\n",
       "      <th>...</th>\n",
       "      <td>...</td>\n",
       "    </tr>\n",
       "    <tr>\n",
       "      <th>75</th>\n",
       "      <td>4.4</td>\n",
       "    </tr>\n",
       "    <tr>\n",
       "      <th>76</th>\n",
       "      <td>5.3</td>\n",
       "    </tr>\n",
       "    <tr>\n",
       "      <th>77</th>\n",
       "      <td>6.2</td>\n",
       "    </tr>\n",
       "    <tr>\n",
       "      <th>78</th>\n",
       "      <td>7.4</td>\n",
       "    </tr>\n",
       "    <tr>\n",
       "      <th>79</th>\n",
       "      <td>4.2</td>\n",
       "    </tr>\n",
       "  </tbody>\n",
       "</table>\n",
       "<p>80 rows × 1 columns</p>\n",
       "</div>"
      ],
      "text/plain": [
       "    height_increase\n",
       "0               5.3\n",
       "1               9.0\n",
       "2               5.7\n",
       "3               5.5\n",
       "4               5.4\n",
       "..              ...\n",
       "75              4.4\n",
       "76              5.3\n",
       "77              6.2\n",
       "78              7.4\n",
       "79              4.2\n",
       "\n",
       "[80 rows x 1 columns]"
      ]
     },
     "execution_count": 36,
     "metadata": {},
     "output_type": "execute_result"
    }
   ],
   "source": [
    "healthdrink_no_df"
   ]
  },
  {
   "cell_type": "code",
   "execution_count": 43,
   "id": "296cceb2-e673-4cca-beee-938e8b4931a1",
   "metadata": {
    "tags": []
   },
   "outputs": [
    {
     "data": {
      "image/png": "[encoded data removed]",
      "text/plain": [
       "<Figure size 640x480 with 1 Axes>"
      ]
     },
     "metadata": {},
     "output_type": "display_data"
    }
   ],
   "source": [
    "import matplotlib.pyplot as plt\n",
    "plt.hist(healthdrink_yes_df, color='green',alpha=0.5, label='Yes')\n",
    "plt.hist(healthdrink_no_df,color='red',alpha=0.5,label='no')\n",
    "plt.legend()\n",
    "plt.show()"
   ]
  },
  {
   "cell_type": "code",
   "execution_count": 44,
   "id": "c74349b5-b40b-4d46-9400-a3e60dd3dde6",
   "metadata": {
    "tags": []
   },
   "outputs": [
    {
     "data": {
      "text/plain": [
       "Ttest_indResult(statistic=8.131675069083359, pvalue=1.197698592263946e-13)"
      ]
     },
     "execution_count": 44,
     "metadata": {},
     "output_type": "execute_result"
    }
   ],
   "source": [
    "stats.ttest_ind(healthdrink_yes_df['height_increase'], healthdrink_no_df['height_increase'])"
   ]
  },
  {
   "cell_type": "code",
   "execution_count": 45,
   "id": "9c99bad8-3832-4f56-a840-083726bc0dba",
   "metadata": {
    "tags": []
   },
   "outputs": [],
   "source": [
    "p = 0\n",
    "# p < 0.05 --> it follows the alternate hypothesis"
   ]
  },
  {
   "cell_type": "markdown",
   "id": "7417bd0c-a68c-4f52-8d05-4577fdadb96e",
   "metadata": {},
   "source": [
    "# Paired Sample t-test"
   ]
  },
  {
   "cell_type": "code",
   "execution_count": 46,
   "id": "bc594a3a-1b3f-4b10-bd69-9b454f78cee5",
   "metadata": {
    "tags": []
   },
   "outputs": [
    {
     "data": {
      "text/html": [
       "<div>\n",
       "<style scoped>\n",
       "    .dataframe tbody tr th:only-of-type {\n",
       "        vertical-align: middle;\n",
       "    }\n",
       "\n",
       "    .dataframe tbody tr th {\n",
       "        vertical-align: top;\n",
       "    }\n",
       "\n",
       "    .dataframe thead th {\n",
       "        text-align: right;\n",
       "    }\n",
       "</style>\n",
       "<table border=\"1\" class=\"dataframe\">\n",
       "  <thead>\n",
       "    <tr style=\"text-align: right;\">\n",
       "      <th></th>\n",
       "      <th>Before_Breakup</th>\n",
       "      <th>After_Breakup</th>\n",
       "    </tr>\n",
       "  </thead>\n",
       "  <tbody>\n",
       "    <tr>\n",
       "      <th>0</th>\n",
       "      <td>470</td>\n",
       "      <td>408</td>\n",
       "    </tr>\n",
       "    <tr>\n",
       "      <th>1</th>\n",
       "      <td>354</td>\n",
       "      <td>439</td>\n",
       "    </tr>\n",
       "    <tr>\n",
       "      <th>2</th>\n",
       "      <td>496</td>\n",
       "      <td>321</td>\n",
       "    </tr>\n",
       "    <tr>\n",
       "      <th>3</th>\n",
       "      <td>351</td>\n",
       "      <td>437</td>\n",
       "    </tr>\n",
       "    <tr>\n",
       "      <th>4</th>\n",
       "      <td>349</td>\n",
       "      <td>335</td>\n",
       "    </tr>\n",
       "    <tr>\n",
       "      <th>5</th>\n",
       "      <td>449</td>\n",
       "      <td>344</td>\n",
       "    </tr>\n",
       "    <tr>\n",
       "      <th>6</th>\n",
       "      <td>378</td>\n",
       "      <td>318</td>\n",
       "    </tr>\n",
       "    <tr>\n",
       "      <th>7</th>\n",
       "      <td>359</td>\n",
       "      <td>492</td>\n",
       "    </tr>\n",
       "    <tr>\n",
       "      <th>8</th>\n",
       "      <td>469</td>\n",
       "      <td>531</td>\n",
       "    </tr>\n",
       "    <tr>\n",
       "      <th>9</th>\n",
       "      <td>329</td>\n",
       "      <td>417</td>\n",
       "    </tr>\n",
       "    <tr>\n",
       "      <th>10</th>\n",
       "      <td>389</td>\n",
       "      <td>358</td>\n",
       "    </tr>\n",
       "    <tr>\n",
       "      <th>11</th>\n",
       "      <td>497</td>\n",
       "      <td>391</td>\n",
       "    </tr>\n",
       "    <tr>\n",
       "      <th>12</th>\n",
       "      <td>493</td>\n",
       "      <td>398</td>\n",
       "    </tr>\n",
       "    <tr>\n",
       "      <th>13</th>\n",
       "      <td>268</td>\n",
       "      <td>394</td>\n",
       "    </tr>\n",
       "    <tr>\n",
       "      <th>14</th>\n",
       "      <td>445</td>\n",
       "      <td>508</td>\n",
       "    </tr>\n",
       "    <tr>\n",
       "      <th>15</th>\n",
       "      <td>287</td>\n",
       "      <td>399</td>\n",
       "    </tr>\n",
       "    <tr>\n",
       "      <th>16</th>\n",
       "      <td>338</td>\n",
       "      <td>345</td>\n",
       "    </tr>\n",
       "    <tr>\n",
       "      <th>17</th>\n",
       "      <td>271</td>\n",
       "      <td>341</td>\n",
       "    </tr>\n",
       "    <tr>\n",
       "      <th>18</th>\n",
       "      <td>412</td>\n",
       "      <td>326</td>\n",
       "    </tr>\n",
       "    <tr>\n",
       "      <th>19</th>\n",
       "      <td>335</td>\n",
       "      <td>467</td>\n",
       "    </tr>\n",
       "  </tbody>\n",
       "</table>\n",
       "</div>"
      ],
      "text/plain": [
       "    Before_Breakup  After_Breakup\n",
       "0              470            408\n",
       "1              354            439\n",
       "2              496            321\n",
       "3              351            437\n",
       "4              349            335\n",
       "5              449            344\n",
       "6              378            318\n",
       "7              359            492\n",
       "8              469            531\n",
       "9              329            417\n",
       "10             389            358\n",
       "11             497            391\n",
       "12             493            398\n",
       "13             268            394\n",
       "14             445            508\n",
       "15             287            399\n",
       "16             338            345\n",
       "17             271            341\n",
       "18             412            326\n",
       "19             335            467"
      ]
     },
     "execution_count": 46,
     "metadata": {},
     "output_type": "execute_result"
    }
   ],
   "source": [
    "breakups_df = pd.read_csv('breakups.csv')\n",
    "breakups_df"
   ]
  },
  {
   "cell_type": "code",
   "execution_count": 48,
   "id": "31c47e57-965d-47cd-b82f-f6b1e02b50a5",
   "metadata": {
    "tags": []
   },
   "outputs": [
    {
     "data": {
      "image/png": "[encoded data removed]",
      "text/plain": [
       "<Figure size 640x480 with 1 Axes>"
      ]
     },
     "metadata": {},
     "output_type": "display_data"
    }
   ],
   "source": [
    "import matplotlib.pyplot as plt\n",
    "plt.hist(breakups_df['Before_Breakup'], color='green',alpha=0.5, label='Before')\n",
    "plt.hist(breakups_df['After_Breakup'],alpha=0.5,label='After',color='red')\n",
    "plt.legend()\n",
    "plt.show()"
   ]
  },
  {
   "cell_type": "code",
   "execution_count": 49,
   "id": "bf056091-6645-4d74-8905-b67bb2996497",
   "metadata": {
    "tags": []
   },
   "outputs": [
    {
     "data": {
      "text/plain": [
       "TtestResult(statistic=-0.5375404241815106, pvalue=0.5971346738292477, df=19)"
      ]
     },
     "execution_count": 49,
     "metadata": {},
     "output_type": "execute_result"
    }
   ],
   "source": [
    "stats.ttest_rel(breakups_df['Before_Breakup'],breakups_df['After_Breakup'] )"
   ]
  },
  {
   "cell_type": "code",
   "execution_count": null,
   "id": "ecb4a82e-dec3-487e-b14f-8111c45f4f7c",
   "metadata": {},
   "outputs": [],
   "source": [
    "# it follows the null hypothesis\n",
    "# breakup donot have any affect on alcohol consumption"
   ]
  },
  {
   "cell_type": "code",
   "execution_count": null,
   "id": "c2fe3fb4-9af0-416d-b85b-48daf9ffd7f7",
   "metadata": {},
   "outputs": [],
   "source": []
  },
  {
   "cell_type": "code",
   "execution_count": null,
   "id": "27afdf05-85dd-4a19-868e-7043f0d514d5",
   "metadata": {},
   "outputs": [],
   "source": []
  },
  {
   "cell_type": "code",
   "execution_count": null,
   "id": "23e729e7-af8b-44fc-9d88-6008d01d59b6",
   "metadata": {},
   "outputs": [],
   "source": []
  },
  {
   "cell_type": "code",
   "execution_count": null,
   "id": "f3223586-ecb6-4cf3-b0db-e1f524caf8f7",
   "metadata": {},
   "outputs": [],
   "source": []
  },
  {
   "cell_type": "code",
   "execution_count": null,
   "id": "c08bc0a5-ef88-4e9f-ab5b-1636e953bc3c",
   "metadata": {},
   "outputs": [],
   "source": []
  },
  {
   "cell_type": "code",
   "execution_count": null,
   "id": "510fd350-9598-4514-b921-7fa73de428ac",
   "metadata": {},
   "outputs": [],
   "source": []
  }
 ],
 "metadata": {
  "kernelspec": {
   "display_name": "Python 3 (ipykernel)",
   "language": "python",
   "name": "python3"
  },
  "language_info": {
   "codemirror_mode": {
    "name": "ipython",
    "version": 3
   },
   "file_extension": ".py",
   "mimetype": "text/x-python",
   "name": "python",
   "nbconvert_exporter": "python",
   "pygments_lexer": "ipython3",
   "version": "3.11.3"
  }
 },
 "nbformat": 4,
 "nbformat_minor": 5
}
